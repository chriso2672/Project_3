{
 "cells": [
  {
   "cell_type": "code",
   "execution_count": 1,
   "id": "b4bbe2d8",
   "metadata": {},
   "outputs": [],
   "source": [
    "# imports\n",
    "import pandas as pd\n",
    "import numpy as np\n",
    "import seaborn as sns\n",
    "import matplotlib.pyplot as plt"
   ]
  },
  {
   "cell_type": "code",
   "execution_count": 2,
   "id": "21b2b2cd",
   "metadata": {},
   "outputs": [
    {
     "data": {
      "text/html": [
       "<div>\n",
       "<style scoped>\n",
       "    .dataframe tbody tr th:only-of-type {\n",
       "        vertical-align: middle;\n",
       "    }\n",
       "\n",
       "    .dataframe tbody tr th {\n",
       "        vertical-align: top;\n",
       "    }\n",
       "\n",
       "    .dataframe thead th {\n",
       "        text-align: right;\n",
       "    }\n",
       "</style>\n",
       "<table border=\"1\" class=\"dataframe\">\n",
       "  <thead>\n",
       "    <tr style=\"text-align: right;\">\n",
       "      <th></th>\n",
       "      <th>name</th>\n",
       "      <th>gp</th>\n",
       "      <th>min</th>\n",
       "      <th>pts</th>\n",
       "      <th>fgm</th>\n",
       "      <th>fga</th>\n",
       "      <th>fg</th>\n",
       "      <th>3p_made</th>\n",
       "      <th>3pa</th>\n",
       "      <th>3p</th>\n",
       "      <th>...</th>\n",
       "      <th>ft</th>\n",
       "      <th>oreb</th>\n",
       "      <th>dreb</th>\n",
       "      <th>reb</th>\n",
       "      <th>ast</th>\n",
       "      <th>stl</th>\n",
       "      <th>blk</th>\n",
       "      <th>tov</th>\n",
       "      <th>target_5yrs</th>\n",
       "      <th>Year Drafted</th>\n",
       "    </tr>\n",
       "  </thead>\n",
       "  <tbody>\n",
       "    <tr>\n",
       "      <th>0</th>\n",
       "      <td>Isaiah Whitehead</td>\n",
       "      <td>25</td>\n",
       "      <td>22.6</td>\n",
       "      <td>6.7</td>\n",
       "      <td>2.6</td>\n",
       "      <td>6.4</td>\n",
       "      <td>41.3</td>\n",
       "      <td>0.5</td>\n",
       "      <td>1.8</td>\n",
       "      <td>28.3</td>\n",
       "      <td>...</td>\n",
       "      <td>76.7</td>\n",
       "      <td>0.2</td>\n",
       "      <td>2.0</td>\n",
       "      <td>2.2</td>\n",
       "      <td>3.0</td>\n",
       "      <td>0.7</td>\n",
       "      <td>0.5</td>\n",
       "      <td>2.2</td>\n",
       "      <td>0</td>\n",
       "      <td>2016</td>\n",
       "    </tr>\n",
       "    <tr>\n",
       "      <th>1</th>\n",
       "      <td>Kris Dunn</td>\n",
       "      <td>33</td>\n",
       "      <td>16.9</td>\n",
       "      <td>4.1</td>\n",
       "      <td>1.5</td>\n",
       "      <td>4.1</td>\n",
       "      <td>37.3</td>\n",
       "      <td>0.3</td>\n",
       "      <td>0.9</td>\n",
       "      <td>29.0</td>\n",
       "      <td>...</td>\n",
       "      <td>62.5</td>\n",
       "      <td>0.4</td>\n",
       "      <td>1.9</td>\n",
       "      <td>2.2</td>\n",
       "      <td>2.4</td>\n",
       "      <td>1.0</td>\n",
       "      <td>0.3</td>\n",
       "      <td>1.2</td>\n",
       "      <td>0</td>\n",
       "      <td>2016</td>\n",
       "    </tr>\n",
       "    <tr>\n",
       "      <th>2</th>\n",
       "      <td>Rodney McGruder</td>\n",
       "      <td>30</td>\n",
       "      <td>25.7</td>\n",
       "      <td>5.8</td>\n",
       "      <td>2.1</td>\n",
       "      <td>5.3</td>\n",
       "      <td>40.0</td>\n",
       "      <td>0.8</td>\n",
       "      <td>2.6</td>\n",
       "      <td>32.5</td>\n",
       "      <td>...</td>\n",
       "      <td>72.4</td>\n",
       "      <td>1.5</td>\n",
       "      <td>2.0</td>\n",
       "      <td>3.5</td>\n",
       "      <td>1.5</td>\n",
       "      <td>0.7</td>\n",
       "      <td>0.3</td>\n",
       "      <td>0.7</td>\n",
       "      <td>0</td>\n",
       "      <td>2016</td>\n",
       "    </tr>\n",
       "    <tr>\n",
       "      <th>3</th>\n",
       "      <td>Malcolm Brogdon</td>\n",
       "      <td>32</td>\n",
       "      <td>22.9</td>\n",
       "      <td>8.3</td>\n",
       "      <td>3.2</td>\n",
       "      <td>6.9</td>\n",
       "      <td>46.2</td>\n",
       "      <td>0.9</td>\n",
       "      <td>2.1</td>\n",
       "      <td>44.1</td>\n",
       "      <td>...</td>\n",
       "      <td>85.7</td>\n",
       "      <td>0.4</td>\n",
       "      <td>2.1</td>\n",
       "      <td>2.5</td>\n",
       "      <td>3.6</td>\n",
       "      <td>1.0</td>\n",
       "      <td>0.1</td>\n",
       "      <td>1.5</td>\n",
       "      <td>0</td>\n",
       "      <td>2016</td>\n",
       "    </tr>\n",
       "    <tr>\n",
       "      <th>4</th>\n",
       "      <td>Malcolm Delaney</td>\n",
       "      <td>33</td>\n",
       "      <td>16.4</td>\n",
       "      <td>5.3</td>\n",
       "      <td>2.0</td>\n",
       "      <td>5.3</td>\n",
       "      <td>37.1</td>\n",
       "      <td>0.2</td>\n",
       "      <td>1.4</td>\n",
       "      <td>17.4</td>\n",
       "      <td>...</td>\n",
       "      <td>86.0</td>\n",
       "      <td>0.2</td>\n",
       "      <td>1.5</td>\n",
       "      <td>1.6</td>\n",
       "      <td>2.8</td>\n",
       "      <td>0.4</td>\n",
       "      <td>0.0</td>\n",
       "      <td>1.5</td>\n",
       "      <td>0</td>\n",
       "      <td>2016</td>\n",
       "    </tr>\n",
       "  </tbody>\n",
       "</table>\n",
       "<p>5 rows × 22 columns</p>\n",
       "</div>"
      ],
      "text/plain": [
       "               name  gp   min  pts  fgm  fga    fg  3p_made  3pa    3p  ...  \\\n",
       "0  Isaiah Whitehead  25  22.6  6.7  2.6  6.4  41.3      0.5  1.8  28.3  ...   \n",
       "1         Kris Dunn  33  16.9  4.1  1.5  4.1  37.3      0.3  0.9  29.0  ...   \n",
       "2   Rodney McGruder  30  25.7  5.8  2.1  5.3  40.0      0.8  2.6  32.5  ...   \n",
       "3   Malcolm Brogdon  32  22.9  8.3  3.2  6.9  46.2      0.9  2.1  44.1  ...   \n",
       "4   Malcolm Delaney  33  16.4  5.3  2.0  5.3  37.1      0.2  1.4  17.4  ...   \n",
       "\n",
       "     ft  oreb  dreb  reb  ast  stl  blk  tov  target_5yrs  Year Drafted  \n",
       "0  76.7   0.2   2.0  2.2  3.0  0.7  0.5  2.2            0          2016  \n",
       "1  62.5   0.4   1.9  2.2  2.4  1.0  0.3  1.2            0          2016  \n",
       "2  72.4   1.5   2.0  3.5  1.5  0.7  0.3  0.7            0          2016  \n",
       "3  85.7   0.4   2.1  2.5  3.6  1.0  0.1  1.5            0          2016  \n",
       "4  86.0   0.2   1.5  1.6  2.8  0.4  0.0  1.5            0          2016  \n",
       "\n",
       "[5 rows x 22 columns]"
      ]
     },
     "execution_count": 2,
     "metadata": {},
     "output_type": "execute_result"
    }
   ],
   "source": [
    "df = pd.read_csv('Dataset/nba.csv', index_col=0)\n",
    "df.head()"
   ]
  },
  {
   "cell_type": "code",
   "execution_count": 3,
   "id": "8fab1cd3",
   "metadata": {},
   "outputs": [
    {
     "name": "stdout",
     "output_type": "stream",
     "text": [
      "<class 'pandas.core.frame.DataFrame'>\n",
      "Int64Index: 1328 entries, 0 to 1327\n",
      "Data columns (total 22 columns):\n",
      " #   Column        Non-Null Count  Dtype  \n",
      "---  ------        --------------  -----  \n",
      " 0   name          1328 non-null   object \n",
      " 1   gp            1328 non-null   int64  \n",
      " 2   min           1328 non-null   float64\n",
      " 3   pts           1328 non-null   float64\n",
      " 4   fgm           1328 non-null   float64\n",
      " 5   fga           1328 non-null   float64\n",
      " 6   fg            1328 non-null   float64\n",
      " 7   3p_made       1328 non-null   float64\n",
      " 8   3pa           1328 non-null   float64\n",
      " 9   3p            1328 non-null   float64\n",
      " 10  ftm           1328 non-null   float64\n",
      " 11  fta           1328 non-null   float64\n",
      " 12  ft            1328 non-null   float64\n",
      " 13  oreb          1328 non-null   float64\n",
      " 14  dreb          1328 non-null   float64\n",
      " 15  reb           1328 non-null   float64\n",
      " 16  ast           1328 non-null   float64\n",
      " 17  stl           1328 non-null   float64\n",
      " 18  blk           1328 non-null   float64\n",
      " 19  tov           1328 non-null   float64\n",
      " 20  target_5yrs   1328 non-null   int64  \n",
      " 21  Year Drafted  1328 non-null   int64  \n",
      "dtypes: float64(18), int64(3), object(1)\n",
      "memory usage: 238.6+ KB\n"
     ]
    }
   ],
   "source": [
    "df.info()"
   ]
  },
  {
   "cell_type": "code",
   "execution_count": 4,
   "id": "3cc124b3",
   "metadata": {},
   "outputs": [
    {
     "data": {
      "text/html": [
       "<div>\n",
       "<style scoped>\n",
       "    .dataframe tbody tr th:only-of-type {\n",
       "        vertical-align: middle;\n",
       "    }\n",
       "\n",
       "    .dataframe tbody tr th {\n",
       "        vertical-align: top;\n",
       "    }\n",
       "\n",
       "    .dataframe thead th {\n",
       "        text-align: right;\n",
       "    }\n",
       "</style>\n",
       "<table border=\"1\" class=\"dataframe\">\n",
       "  <thead>\n",
       "    <tr style=\"text-align: right;\">\n",
       "      <th></th>\n",
       "      <th>gp</th>\n",
       "      <th>min</th>\n",
       "      <th>pts</th>\n",
       "      <th>fgm</th>\n",
       "      <th>fga</th>\n",
       "      <th>fg</th>\n",
       "      <th>3p_made</th>\n",
       "      <th>3pa</th>\n",
       "      <th>3p</th>\n",
       "      <th>ftm</th>\n",
       "      <th>...</th>\n",
       "      <th>ft</th>\n",
       "      <th>oreb</th>\n",
       "      <th>dreb</th>\n",
       "      <th>reb</th>\n",
       "      <th>ast</th>\n",
       "      <th>stl</th>\n",
       "      <th>blk</th>\n",
       "      <th>tov</th>\n",
       "      <th>target_5yrs</th>\n",
       "      <th>Year Drafted</th>\n",
       "    </tr>\n",
       "  </thead>\n",
       "  <tbody>\n",
       "    <tr>\n",
       "      <th>count</th>\n",
       "      <td>1328.000000</td>\n",
       "      <td>1328.000000</td>\n",
       "      <td>1328.000000</td>\n",
       "      <td>1328.000000</td>\n",
       "      <td>1328.000000</td>\n",
       "      <td>1328.000000</td>\n",
       "      <td>1328.000000</td>\n",
       "      <td>1328.000000</td>\n",
       "      <td>1328.000000</td>\n",
       "      <td>1328.000000</td>\n",
       "      <td>...</td>\n",
       "      <td>1328.000000</td>\n",
       "      <td>1328.000000</td>\n",
       "      <td>1328.000000</td>\n",
       "      <td>1328.000000</td>\n",
       "      <td>1328.000000</td>\n",
       "      <td>1328.000000</td>\n",
       "      <td>1328.000000</td>\n",
       "      <td>1328.000000</td>\n",
       "      <td>1328.000000</td>\n",
       "      <td>1328.000000</td>\n",
       "    </tr>\n",
       "    <tr>\n",
       "      <th>mean</th>\n",
       "      <td>60.149096</td>\n",
       "      <td>17.430723</td>\n",
       "      <td>6.676581</td>\n",
       "      <td>2.580572</td>\n",
       "      <td>5.788780</td>\n",
       "      <td>44.105723</td>\n",
       "      <td>0.243901</td>\n",
       "      <td>0.768825</td>\n",
       "      <td>19.012425</td>\n",
       "      <td>1.274172</td>\n",
       "      <td>...</td>\n",
       "      <td>70.204066</td>\n",
       "      <td>0.998117</td>\n",
       "      <td>1.996009</td>\n",
       "      <td>2.993298</td>\n",
       "      <td>1.524925</td>\n",
       "      <td>0.610542</td>\n",
       "      <td>0.359864</td>\n",
       "      <td>1.172289</td>\n",
       "      <td>0.617470</td>\n",
       "      <td>1996.637801</td>\n",
       "    </tr>\n",
       "    <tr>\n",
       "      <th>std</th>\n",
       "      <td>17.341998</td>\n",
       "      <td>8.266768</td>\n",
       "      <td>4.224217</td>\n",
       "      <td>1.638193</td>\n",
       "      <td>3.521862</td>\n",
       "      <td>6.108918</td>\n",
       "      <td>0.379575</td>\n",
       "      <td>1.047230</td>\n",
       "      <td>16.112813</td>\n",
       "      <td>0.939586</td>\n",
       "      <td>...</td>\n",
       "      <td>10.600049</td>\n",
       "      <td>0.771851</td>\n",
       "      <td>1.325613</td>\n",
       "      <td>2.018496</td>\n",
       "      <td>1.435959</td>\n",
       "      <td>0.399220</td>\n",
       "      <td>0.397667</td>\n",
       "      <td>0.696530</td>\n",
       "      <td>0.486188</td>\n",
       "      <td>10.436400</td>\n",
       "    </tr>\n",
       "    <tr>\n",
       "      <th>min</th>\n",
       "      <td>11.000000</td>\n",
       "      <td>3.100000</td>\n",
       "      <td>0.700000</td>\n",
       "      <td>0.300000</td>\n",
       "      <td>0.800000</td>\n",
       "      <td>23.800000</td>\n",
       "      <td>0.000000</td>\n",
       "      <td>0.000000</td>\n",
       "      <td>0.000000</td>\n",
       "      <td>0.000000</td>\n",
       "      <td>...</td>\n",
       "      <td>0.000000</td>\n",
       "      <td>0.000000</td>\n",
       "      <td>0.200000</td>\n",
       "      <td>0.300000</td>\n",
       "      <td>0.000000</td>\n",
       "      <td>0.000000</td>\n",
       "      <td>0.000000</td>\n",
       "      <td>0.100000</td>\n",
       "      <td>0.000000</td>\n",
       "      <td>1980.000000</td>\n",
       "    </tr>\n",
       "    <tr>\n",
       "      <th>25%</th>\n",
       "      <td>47.000000</td>\n",
       "      <td>10.600000</td>\n",
       "      <td>3.600000</td>\n",
       "      <td>1.400000</td>\n",
       "      <td>3.200000</td>\n",
       "      <td>40.100000</td>\n",
       "      <td>0.000000</td>\n",
       "      <td>0.000000</td>\n",
       "      <td>0.000000</td>\n",
       "      <td>0.600000</td>\n",
       "      <td>...</td>\n",
       "      <td>64.600000</td>\n",
       "      <td>0.400000</td>\n",
       "      <td>1.000000</td>\n",
       "      <td>1.500000</td>\n",
       "      <td>0.600000</td>\n",
       "      <td>0.300000</td>\n",
       "      <td>0.100000</td>\n",
       "      <td>0.700000</td>\n",
       "      <td>0.000000</td>\n",
       "      <td>1988.000000</td>\n",
       "    </tr>\n",
       "    <tr>\n",
       "      <th>50%</th>\n",
       "      <td>62.000000</td>\n",
       "      <td>15.950000</td>\n",
       "      <td>5.400000</td>\n",
       "      <td>2.100000</td>\n",
       "      <td>4.700000</td>\n",
       "      <td>44.100000</td>\n",
       "      <td>0.100000</td>\n",
       "      <td>0.300000</td>\n",
       "      <td>22.200000</td>\n",
       "      <td>1.000000</td>\n",
       "      <td>...</td>\n",
       "      <td>71.200000</td>\n",
       "      <td>0.800000</td>\n",
       "      <td>1.700000</td>\n",
       "      <td>2.500000</td>\n",
       "      <td>1.100000</td>\n",
       "      <td>0.500000</td>\n",
       "      <td>0.200000</td>\n",
       "      <td>1.000000</td>\n",
       "      <td>1.000000</td>\n",
       "      <td>1995.000000</td>\n",
       "    </tr>\n",
       "    <tr>\n",
       "      <th>75%</th>\n",
       "      <td>77.000000</td>\n",
       "      <td>22.700000</td>\n",
       "      <td>8.700000</td>\n",
       "      <td>3.400000</td>\n",
       "      <td>7.425000</td>\n",
       "      <td>47.800000</td>\n",
       "      <td>0.400000</td>\n",
       "      <td>1.200000</td>\n",
       "      <td>32.325000</td>\n",
       "      <td>1.600000</td>\n",
       "      <td>...</td>\n",
       "      <td>77.425000</td>\n",
       "      <td>1.400000</td>\n",
       "      <td>2.600000</td>\n",
       "      <td>3.900000</td>\n",
       "      <td>1.900000</td>\n",
       "      <td>0.800000</td>\n",
       "      <td>0.500000</td>\n",
       "      <td>1.500000</td>\n",
       "      <td>1.000000</td>\n",
       "      <td>2006.000000</td>\n",
       "    </tr>\n",
       "    <tr>\n",
       "      <th>max</th>\n",
       "      <td>82.000000</td>\n",
       "      <td>40.900000</td>\n",
       "      <td>23.700000</td>\n",
       "      <td>9.800000</td>\n",
       "      <td>19.700000</td>\n",
       "      <td>73.700000</td>\n",
       "      <td>2.300000</td>\n",
       "      <td>6.500000</td>\n",
       "      <td>100.000000</td>\n",
       "      <td>6.000000</td>\n",
       "      <td>...</td>\n",
       "      <td>100.000000</td>\n",
       "      <td>5.300000</td>\n",
       "      <td>8.800000</td>\n",
       "      <td>12.300000</td>\n",
       "      <td>10.600000</td>\n",
       "      <td>2.500000</td>\n",
       "      <td>3.400000</td>\n",
       "      <td>4.200000</td>\n",
       "      <td>1.000000</td>\n",
       "      <td>2016.000000</td>\n",
       "    </tr>\n",
       "  </tbody>\n",
       "</table>\n",
       "<p>8 rows × 21 columns</p>\n",
       "</div>"
      ],
      "text/plain": [
       "                gp          min          pts          fgm          fga  \\\n",
       "count  1328.000000  1328.000000  1328.000000  1328.000000  1328.000000   \n",
       "mean     60.149096    17.430723     6.676581     2.580572     5.788780   \n",
       "std      17.341998     8.266768     4.224217     1.638193     3.521862   \n",
       "min      11.000000     3.100000     0.700000     0.300000     0.800000   \n",
       "25%      47.000000    10.600000     3.600000     1.400000     3.200000   \n",
       "50%      62.000000    15.950000     5.400000     2.100000     4.700000   \n",
       "75%      77.000000    22.700000     8.700000     3.400000     7.425000   \n",
       "max      82.000000    40.900000    23.700000     9.800000    19.700000   \n",
       "\n",
       "                fg      3p_made          3pa           3p          ftm  ...  \\\n",
       "count  1328.000000  1328.000000  1328.000000  1328.000000  1328.000000  ...   \n",
       "mean     44.105723     0.243901     0.768825    19.012425     1.274172  ...   \n",
       "std       6.108918     0.379575     1.047230    16.112813     0.939586  ...   \n",
       "min      23.800000     0.000000     0.000000     0.000000     0.000000  ...   \n",
       "25%      40.100000     0.000000     0.000000     0.000000     0.600000  ...   \n",
       "50%      44.100000     0.100000     0.300000    22.200000     1.000000  ...   \n",
       "75%      47.800000     0.400000     1.200000    32.325000     1.600000  ...   \n",
       "max      73.700000     2.300000     6.500000   100.000000     6.000000  ...   \n",
       "\n",
       "                ft         oreb         dreb          reb          ast  \\\n",
       "count  1328.000000  1328.000000  1328.000000  1328.000000  1328.000000   \n",
       "mean     70.204066     0.998117     1.996009     2.993298     1.524925   \n",
       "std      10.600049     0.771851     1.325613     2.018496     1.435959   \n",
       "min       0.000000     0.000000     0.200000     0.300000     0.000000   \n",
       "25%      64.600000     0.400000     1.000000     1.500000     0.600000   \n",
       "50%      71.200000     0.800000     1.700000     2.500000     1.100000   \n",
       "75%      77.425000     1.400000     2.600000     3.900000     1.900000   \n",
       "max     100.000000     5.300000     8.800000    12.300000    10.600000   \n",
       "\n",
       "               stl          blk          tov  target_5yrs  Year Drafted  \n",
       "count  1328.000000  1328.000000  1328.000000  1328.000000   1328.000000  \n",
       "mean      0.610542     0.359864     1.172289     0.617470   1996.637801  \n",
       "std       0.399220     0.397667     0.696530     0.486188     10.436400  \n",
       "min       0.000000     0.000000     0.100000     0.000000   1980.000000  \n",
       "25%       0.300000     0.100000     0.700000     0.000000   1988.000000  \n",
       "50%       0.500000     0.200000     1.000000     1.000000   1995.000000  \n",
       "75%       0.800000     0.500000     1.500000     1.000000   2006.000000  \n",
       "max       2.500000     3.400000     4.200000     1.000000   2016.000000  \n",
       "\n",
       "[8 rows x 21 columns]"
      ]
     },
     "execution_count": 4,
     "metadata": {},
     "output_type": "execute_result"
    }
   ],
   "source": [
    "df.describe()"
   ]
  },
  {
   "cell_type": "code",
   "execution_count": 5,
   "id": "46b28169",
   "metadata": {},
   "outputs": [
    {
     "data": {
      "text/html": [
       "<div>\n",
       "<style scoped>\n",
       "    .dataframe tbody tr th:only-of-type {\n",
       "        vertical-align: middle;\n",
       "    }\n",
       "\n",
       "    .dataframe tbody tr th {\n",
       "        vertical-align: top;\n",
       "    }\n",
       "\n",
       "    .dataframe thead th {\n",
       "        text-align: right;\n",
       "    }\n",
       "</style>\n",
       "<table border=\"1\" class=\"dataframe\">\n",
       "  <thead>\n",
       "    <tr style=\"text-align: right;\">\n",
       "      <th></th>\n",
       "      <th>name</th>\n",
       "      <th>gp</th>\n",
       "      <th>min</th>\n",
       "      <th>pts</th>\n",
       "      <th>fgm</th>\n",
       "      <th>fga</th>\n",
       "      <th>fg</th>\n",
       "      <th>3p_made</th>\n",
       "      <th>3pa</th>\n",
       "      <th>3p</th>\n",
       "      <th>...</th>\n",
       "      <th>ft</th>\n",
       "      <th>oreb</th>\n",
       "      <th>dreb</th>\n",
       "      <th>reb</th>\n",
       "      <th>ast</th>\n",
       "      <th>stl</th>\n",
       "      <th>blk</th>\n",
       "      <th>tov</th>\n",
       "      <th>target_5yrs</th>\n",
       "      <th>Year Drafted</th>\n",
       "    </tr>\n",
       "  </thead>\n",
       "  <tbody>\n",
       "    <tr>\n",
       "      <th>119</th>\n",
       "      <td>Jeff Taylor</td>\n",
       "      <td>44</td>\n",
       "      <td>17.6</td>\n",
       "      <td>3.6</td>\n",
       "      <td>1.5</td>\n",
       "      <td>3.6</td>\n",
       "      <td>40.0</td>\n",
       "      <td>0.0</td>\n",
       "      <td>0.0</td>\n",
       "      <td>0.0</td>\n",
       "      <td>...</td>\n",
       "      <td>65.2</td>\n",
       "      <td>0.6</td>\n",
       "      <td>1.2</td>\n",
       "      <td>1.8</td>\n",
       "      <td>2.5</td>\n",
       "      <td>0.9</td>\n",
       "      <td>0.3</td>\n",
       "      <td>1.4</td>\n",
       "      <td>0</td>\n",
       "      <td>2012</td>\n",
       "    </tr>\n",
       "    <tr>\n",
       "      <th>225</th>\n",
       "      <td>James Johnson</td>\n",
       "      <td>65</td>\n",
       "      <td>11.6</td>\n",
       "      <td>3.9</td>\n",
       "      <td>1.5</td>\n",
       "      <td>3.2</td>\n",
       "      <td>45.2</td>\n",
       "      <td>0.2</td>\n",
       "      <td>0.7</td>\n",
       "      <td>32.6</td>\n",
       "      <td>...</td>\n",
       "      <td>72.9</td>\n",
       "      <td>0.5</td>\n",
       "      <td>1.4</td>\n",
       "      <td>2.0</td>\n",
       "      <td>0.7</td>\n",
       "      <td>0.3</td>\n",
       "      <td>0.7</td>\n",
       "      <td>0.9</td>\n",
       "      <td>1</td>\n",
       "      <td>2009</td>\n",
       "    </tr>\n",
       "    <tr>\n",
       "      <th>227</th>\n",
       "      <td>Gerald Henderson</td>\n",
       "      <td>43</td>\n",
       "      <td>8.3</td>\n",
       "      <td>2.6</td>\n",
       "      <td>0.9</td>\n",
       "      <td>2.4</td>\n",
       "      <td>35.6</td>\n",
       "      <td>0.1</td>\n",
       "      <td>0.4</td>\n",
       "      <td>21.1</td>\n",
       "      <td>...</td>\n",
       "      <td>74.5</td>\n",
       "      <td>0.3</td>\n",
       "      <td>0.9</td>\n",
       "      <td>1.3</td>\n",
       "      <td>0.3</td>\n",
       "      <td>0.2</td>\n",
       "      <td>0.2</td>\n",
       "      <td>0.3</td>\n",
       "      <td>1</td>\n",
       "      <td>2009</td>\n",
       "    </tr>\n",
       "    <tr>\n",
       "      <th>312</th>\n",
       "      <td>Marcus Williams</td>\n",
       "      <td>79</td>\n",
       "      <td>16.6</td>\n",
       "      <td>6.8</td>\n",
       "      <td>2.6</td>\n",
       "      <td>6.7</td>\n",
       "      <td>39.5</td>\n",
       "      <td>0.6</td>\n",
       "      <td>2.1</td>\n",
       "      <td>28.2</td>\n",
       "      <td>...</td>\n",
       "      <td>84.7</td>\n",
       "      <td>0.4</td>\n",
       "      <td>1.7</td>\n",
       "      <td>2.1</td>\n",
       "      <td>3.3</td>\n",
       "      <td>0.4</td>\n",
       "      <td>0.0</td>\n",
       "      <td>1.8</td>\n",
       "      <td>0</td>\n",
       "      <td>2006</td>\n",
       "    </tr>\n",
       "    <tr>\n",
       "      <th>313</th>\n",
       "      <td>Dee Brown</td>\n",
       "      <td>49</td>\n",
       "      <td>9.2</td>\n",
       "      <td>1.9</td>\n",
       "      <td>0.7</td>\n",
       "      <td>2.0</td>\n",
       "      <td>32.7</td>\n",
       "      <td>0.1</td>\n",
       "      <td>0.6</td>\n",
       "      <td>21.4</td>\n",
       "      <td>...</td>\n",
       "      <td>64.9</td>\n",
       "      <td>0.2</td>\n",
       "      <td>0.7</td>\n",
       "      <td>0.8</td>\n",
       "      <td>1.7</td>\n",
       "      <td>0.5</td>\n",
       "      <td>0.1</td>\n",
       "      <td>0.6</td>\n",
       "      <td>0</td>\n",
       "      <td>2006</td>\n",
       "    </tr>\n",
       "    <tr>\n",
       "      <th>...</th>\n",
       "      <td>...</td>\n",
       "      <td>...</td>\n",
       "      <td>...</td>\n",
       "      <td>...</td>\n",
       "      <td>...</td>\n",
       "      <td>...</td>\n",
       "      <td>...</td>\n",
       "      <td>...</td>\n",
       "      <td>...</td>\n",
       "      <td>...</td>\n",
       "      <td>...</td>\n",
       "      <td>...</td>\n",
       "      <td>...</td>\n",
       "      <td>...</td>\n",
       "      <td>...</td>\n",
       "      <td>...</td>\n",
       "      <td>...</td>\n",
       "      <td>...</td>\n",
       "      <td>...</td>\n",
       "      <td>...</td>\n",
       "      <td>...</td>\n",
       "    </tr>\n",
       "    <tr>\n",
       "      <th>1207</th>\n",
       "      <td>Jeff Taylor</td>\n",
       "      <td>77</td>\n",
       "      <td>19.6</td>\n",
       "      <td>6.1</td>\n",
       "      <td>2.2</td>\n",
       "      <td>5.2</td>\n",
       "      <td>43.1</td>\n",
       "      <td>0.7</td>\n",
       "      <td>2.0</td>\n",
       "      <td>34.4</td>\n",
       "      <td>...</td>\n",
       "      <td>72.8</td>\n",
       "      <td>0.7</td>\n",
       "      <td>1.3</td>\n",
       "      <td>1.9</td>\n",
       "      <td>0.8</td>\n",
       "      <td>0.6</td>\n",
       "      <td>0.2</td>\n",
       "      <td>0.6</td>\n",
       "      <td>0</td>\n",
       "      <td>1982</td>\n",
       "    </tr>\n",
       "    <tr>\n",
       "      <th>1211</th>\n",
       "      <td>Jeff Taylor</td>\n",
       "      <td>44</td>\n",
       "      <td>17.6</td>\n",
       "      <td>3.6</td>\n",
       "      <td>1.5</td>\n",
       "      <td>3.6</td>\n",
       "      <td>40.0</td>\n",
       "      <td>0.0</td>\n",
       "      <td>0.0</td>\n",
       "      <td>0.0</td>\n",
       "      <td>...</td>\n",
       "      <td>65.2</td>\n",
       "      <td>0.6</td>\n",
       "      <td>1.2</td>\n",
       "      <td>1.8</td>\n",
       "      <td>2.5</td>\n",
       "      <td>0.9</td>\n",
       "      <td>0.3</td>\n",
       "      <td>1.4</td>\n",
       "      <td>0</td>\n",
       "      <td>1982</td>\n",
       "    </tr>\n",
       "    <tr>\n",
       "      <th>1227</th>\n",
       "      <td>Walker Russell</td>\n",
       "      <td>68</td>\n",
       "      <td>11.1</td>\n",
       "      <td>2.7</td>\n",
       "      <td>1.0</td>\n",
       "      <td>2.7</td>\n",
       "      <td>36.4</td>\n",
       "      <td>0.0</td>\n",
       "      <td>0.3</td>\n",
       "      <td>11.1</td>\n",
       "      <td>...</td>\n",
       "      <td>81.0</td>\n",
       "      <td>0.3</td>\n",
       "      <td>0.8</td>\n",
       "      <td>1.1</td>\n",
       "      <td>1.9</td>\n",
       "      <td>0.2</td>\n",
       "      <td>0.0</td>\n",
       "      <td>1.4</td>\n",
       "      <td>0</td>\n",
       "      <td>1982</td>\n",
       "    </tr>\n",
       "    <tr>\n",
       "      <th>1284</th>\n",
       "      <td>Eddie Johnson</td>\n",
       "      <td>74</td>\n",
       "      <td>20.5</td>\n",
       "      <td>9.3</td>\n",
       "      <td>4.0</td>\n",
       "      <td>8.7</td>\n",
       "      <td>45.9</td>\n",
       "      <td>0.0</td>\n",
       "      <td>0.1</td>\n",
       "      <td>9.1</td>\n",
       "      <td>...</td>\n",
       "      <td>66.4</td>\n",
       "      <td>1.7</td>\n",
       "      <td>2.6</td>\n",
       "      <td>4.4</td>\n",
       "      <td>1.5</td>\n",
       "      <td>0.7</td>\n",
       "      <td>0.2</td>\n",
       "      <td>1.3</td>\n",
       "      <td>1</td>\n",
       "      <td>1981</td>\n",
       "    </tr>\n",
       "    <tr>\n",
       "      <th>1325</th>\n",
       "      <td>Larry Drew</td>\n",
       "      <td>76</td>\n",
       "      <td>20.8</td>\n",
       "      <td>6.6</td>\n",
       "      <td>2.6</td>\n",
       "      <td>6.4</td>\n",
       "      <td>40.7</td>\n",
       "      <td>0.1</td>\n",
       "      <td>0.2</td>\n",
       "      <td>23.5</td>\n",
       "      <td>...</td>\n",
       "      <td>79.7</td>\n",
       "      <td>0.3</td>\n",
       "      <td>1.3</td>\n",
       "      <td>1.6</td>\n",
       "      <td>3.3</td>\n",
       "      <td>1.2</td>\n",
       "      <td>0.1</td>\n",
       "      <td>2.2</td>\n",
       "      <td>1</td>\n",
       "      <td>1980</td>\n",
       "    </tr>\n",
       "  </tbody>\n",
       "</table>\n",
       "<p>80 rows × 22 columns</p>\n",
       "</div>"
      ],
      "text/plain": [
       "                  name  gp   min  pts  fgm  fga    fg  3p_made  3pa    3p  \\\n",
       "119        Jeff Taylor  44  17.6  3.6  1.5  3.6  40.0      0.0  0.0   0.0   \n",
       "225      James Johnson  65  11.6  3.9  1.5  3.2  45.2      0.2  0.7  32.6   \n",
       "227   Gerald Henderson  43   8.3  2.6  0.9  2.4  35.6      0.1  0.4  21.1   \n",
       "312    Marcus Williams  79  16.6  6.8  2.6  6.7  39.5      0.6  2.1  28.2   \n",
       "313          Dee Brown  49   9.2  1.9  0.7  2.0  32.7      0.1  0.6  21.4   \n",
       "...                ...  ..   ...  ...  ...  ...   ...      ...  ...   ...   \n",
       "1207       Jeff Taylor  77  19.6  6.1  2.2  5.2  43.1      0.7  2.0  34.4   \n",
       "1211       Jeff Taylor  44  17.6  3.6  1.5  3.6  40.0      0.0  0.0   0.0   \n",
       "1227    Walker Russell  68  11.1  2.7  1.0  2.7  36.4      0.0  0.3  11.1   \n",
       "1284     Eddie Johnson  74  20.5  9.3  4.0  8.7  45.9      0.0  0.1   9.1   \n",
       "1325        Larry Drew  76  20.8  6.6  2.6  6.4  40.7      0.1  0.2  23.5   \n",
       "\n",
       "      ...    ft  oreb  dreb  reb  ast  stl  blk  tov  target_5yrs  \\\n",
       "119   ...  65.2   0.6   1.2  1.8  2.5  0.9  0.3  1.4            0   \n",
       "225   ...  72.9   0.5   1.4  2.0  0.7  0.3  0.7  0.9            1   \n",
       "227   ...  74.5   0.3   0.9  1.3  0.3  0.2  0.2  0.3            1   \n",
       "312   ...  84.7   0.4   1.7  2.1  3.3  0.4  0.0  1.8            0   \n",
       "313   ...  64.9   0.2   0.7  0.8  1.7  0.5  0.1  0.6            0   \n",
       "...   ...   ...   ...   ...  ...  ...  ...  ...  ...          ...   \n",
       "1207  ...  72.8   0.7   1.3  1.9  0.8  0.6  0.2  0.6            0   \n",
       "1211  ...  65.2   0.6   1.2  1.8  2.5  0.9  0.3  1.4            0   \n",
       "1227  ...  81.0   0.3   0.8  1.1  1.9  0.2  0.0  1.4            0   \n",
       "1284  ...  66.4   1.7   2.6  4.4  1.5  0.7  0.2  1.3            1   \n",
       "1325  ...  79.7   0.3   1.3  1.6  3.3  1.2  0.1  2.2            1   \n",
       "\n",
       "      Year Drafted  \n",
       "119           2012  \n",
       "225           2009  \n",
       "227           2009  \n",
       "312           2006  \n",
       "313           2006  \n",
       "...            ...  \n",
       "1207          1982  \n",
       "1211          1982  \n",
       "1227          1982  \n",
       "1284          1981  \n",
       "1325          1980  \n",
       "\n",
       "[80 rows x 22 columns]"
      ]
     },
     "execution_count": 5,
     "metadata": {},
     "output_type": "execute_result"
    }
   ],
   "source": [
    "duplicates = df[df['name'].duplicated()]\n",
    "duplicates"
   ]
  },
  {
   "cell_type": "code",
   "execution_count": 6,
   "id": "9eaeea19",
   "metadata": {},
   "outputs": [
    {
     "data": {
      "text/plain": [
       "1248"
      ]
     },
     "execution_count": 6,
     "metadata": {},
     "output_type": "execute_result"
    }
   ],
   "source": [
    "# checking unique names\n",
    "df['name'].nunique()"
   ]
  },
  {
   "cell_type": "code",
   "execution_count": 7,
   "id": "a21bc711",
   "metadata": {},
   "outputs": [],
   "source": [
    "# dropping duplicate names\n",
    "df.drop_duplicates(subset='name', keep=False, inplace=True)"
   ]
  },
  {
   "cell_type": "code",
   "execution_count": 8,
   "id": "7a10a7f7",
   "metadata": {
    "scrolled": true
   },
   "outputs": [
    {
     "name": "stdout",
     "output_type": "stream",
     "text": [
      "<class 'pandas.core.frame.DataFrame'>\n",
      "Int64Index: 1219 entries, 0 to 1327\n",
      "Data columns (total 22 columns):\n",
      " #   Column        Non-Null Count  Dtype  \n",
      "---  ------        --------------  -----  \n",
      " 0   name          1219 non-null   object \n",
      " 1   gp            1219 non-null   int64  \n",
      " 2   min           1219 non-null   float64\n",
      " 3   pts           1219 non-null   float64\n",
      " 4   fgm           1219 non-null   float64\n",
      " 5   fga           1219 non-null   float64\n",
      " 6   fg            1219 non-null   float64\n",
      " 7   3p_made       1219 non-null   float64\n",
      " 8   3pa           1219 non-null   float64\n",
      " 9   3p            1219 non-null   float64\n",
      " 10  ftm           1219 non-null   float64\n",
      " 11  fta           1219 non-null   float64\n",
      " 12  ft            1219 non-null   float64\n",
      " 13  oreb          1219 non-null   float64\n",
      " 14  dreb          1219 non-null   float64\n",
      " 15  reb           1219 non-null   float64\n",
      " 16  ast           1219 non-null   float64\n",
      " 17  stl           1219 non-null   float64\n",
      " 18  blk           1219 non-null   float64\n",
      " 19  tov           1219 non-null   float64\n",
      " 20  target_5yrs   1219 non-null   int64  \n",
      " 21  Year Drafted  1219 non-null   int64  \n",
      "dtypes: float64(18), int64(3), object(1)\n",
      "memory usage: 219.0+ KB\n"
     ]
    }
   ],
   "source": [
    "df.info()"
   ]
  },
  {
   "cell_type": "code",
   "execution_count": 9,
   "id": "014b6e56",
   "metadata": {},
   "outputs": [
    {
     "data": {
      "text/plain": [
       "1219"
      ]
     },
     "execution_count": 9,
     "metadata": {},
     "output_type": "execute_result"
    }
   ],
   "source": [
    "df['name'].nunique()"
   ]
  },
  {
   "cell_type": "code",
   "execution_count": 10,
   "id": "8f634d85",
   "metadata": {},
   "outputs": [
    {
     "data": {
      "text/html": [
       "<div>\n",
       "<style scoped>\n",
       "    .dataframe tbody tr th:only-of-type {\n",
       "        vertical-align: middle;\n",
       "    }\n",
       "\n",
       "    .dataframe tbody tr th {\n",
       "        vertical-align: top;\n",
       "    }\n",
       "\n",
       "    .dataframe thead th {\n",
       "        text-align: right;\n",
       "    }\n",
       "</style>\n",
       "<table border=\"1\" class=\"dataframe\">\n",
       "  <thead>\n",
       "    <tr style=\"text-align: right;\">\n",
       "      <th></th>\n",
       "      <th>name</th>\n",
       "      <th>gp</th>\n",
       "      <th>min</th>\n",
       "      <th>pts</th>\n",
       "      <th>fgm</th>\n",
       "      <th>fga</th>\n",
       "      <th>fg</th>\n",
       "      <th>3p_made</th>\n",
       "      <th>3pa</th>\n",
       "      <th>3p</th>\n",
       "      <th>...</th>\n",
       "      <th>ft</th>\n",
       "      <th>oreb</th>\n",
       "      <th>dreb</th>\n",
       "      <th>reb</th>\n",
       "      <th>ast</th>\n",
       "      <th>stl</th>\n",
       "      <th>blk</th>\n",
       "      <th>tov</th>\n",
       "      <th>target_5yrs</th>\n",
       "      <th>Year Drafted</th>\n",
       "    </tr>\n",
       "  </thead>\n",
       "  <tbody>\n",
       "    <tr>\n",
       "      <th>98</th>\n",
       "      <td>Kyle O'Quinn</td>\n",
       "      <td>57</td>\n",
       "      <td>11.2</td>\n",
       "      <td>4.1</td>\n",
       "      <td>1.8</td>\n",
       "      <td>3.5</td>\n",
       "      <td>51.3</td>\n",
       "      <td>0.0</td>\n",
       "      <td>0.0</td>\n",
       "      <td>0.0</td>\n",
       "      <td>...</td>\n",
       "      <td>66.7</td>\n",
       "      <td>1.1</td>\n",
       "      <td>2.5</td>\n",
       "      <td>3.7</td>\n",
       "      <td>0.9</td>\n",
       "      <td>0.2</td>\n",
       "      <td>0.5</td>\n",
       "      <td>0.7</td>\n",
       "      <td>1</td>\n",
       "      <td>2012</td>\n",
       "    </tr>\n",
       "    <tr>\n",
       "      <th>99</th>\n",
       "      <td>Darius Miller</td>\n",
       "      <td>52</td>\n",
       "      <td>13.3</td>\n",
       "      <td>2.3</td>\n",
       "      <td>0.8</td>\n",
       "      <td>2.1</td>\n",
       "      <td>40.7</td>\n",
       "      <td>0.4</td>\n",
       "      <td>1.1</td>\n",
       "      <td>39.3</td>\n",
       "      <td>...</td>\n",
       "      <td>100.0</td>\n",
       "      <td>0.2</td>\n",
       "      <td>1.3</td>\n",
       "      <td>1.5</td>\n",
       "      <td>0.8</td>\n",
       "      <td>0.3</td>\n",
       "      <td>0.2</td>\n",
       "      <td>0.4</td>\n",
       "      <td>0</td>\n",
       "      <td>2012</td>\n",
       "    </tr>\n",
       "    <tr>\n",
       "      <th>100</th>\n",
       "      <td>Kim English</td>\n",
       "      <td>41</td>\n",
       "      <td>9.9</td>\n",
       "      <td>2.9</td>\n",
       "      <td>1.0</td>\n",
       "      <td>2.7</td>\n",
       "      <td>37.5</td>\n",
       "      <td>0.3</td>\n",
       "      <td>1.2</td>\n",
       "      <td>28.0</td>\n",
       "      <td>...</td>\n",
       "      <td>72.4</td>\n",
       "      <td>0.2</td>\n",
       "      <td>0.7</td>\n",
       "      <td>0.9</td>\n",
       "      <td>0.6</td>\n",
       "      <td>0.4</td>\n",
       "      <td>0.1</td>\n",
       "      <td>0.5</td>\n",
       "      <td>0</td>\n",
       "      <td>2012</td>\n",
       "    </tr>\n",
       "    <tr>\n",
       "      <th>101</th>\n",
       "      <td>Harrison Barnes</td>\n",
       "      <td>81</td>\n",
       "      <td>25.4</td>\n",
       "      <td>9.2</td>\n",
       "      <td>3.4</td>\n",
       "      <td>7.8</td>\n",
       "      <td>43.9</td>\n",
       "      <td>0.6</td>\n",
       "      <td>1.8</td>\n",
       "      <td>35.9</td>\n",
       "      <td>...</td>\n",
       "      <td>75.8</td>\n",
       "      <td>0.7</td>\n",
       "      <td>3.5</td>\n",
       "      <td>4.1</td>\n",
       "      <td>1.2</td>\n",
       "      <td>0.6</td>\n",
       "      <td>0.2</td>\n",
       "      <td>1.3</td>\n",
       "      <td>1</td>\n",
       "      <td>2012</td>\n",
       "    </tr>\n",
       "    <tr>\n",
       "      <th>102</th>\n",
       "      <td>Brian Roberts</td>\n",
       "      <td>78</td>\n",
       "      <td>17.0</td>\n",
       "      <td>7.1</td>\n",
       "      <td>2.7</td>\n",
       "      <td>6.6</td>\n",
       "      <td>41.7</td>\n",
       "      <td>0.8</td>\n",
       "      <td>2.0</td>\n",
       "      <td>38.6</td>\n",
       "      <td>...</td>\n",
       "      <td>90.9</td>\n",
       "      <td>0.2</td>\n",
       "      <td>1.0</td>\n",
       "      <td>1.2</td>\n",
       "      <td>2.8</td>\n",
       "      <td>0.5</td>\n",
       "      <td>0.0</td>\n",
       "      <td>0.9</td>\n",
       "      <td>1</td>\n",
       "      <td>2012</td>\n",
       "    </tr>\n",
       "    <tr>\n",
       "      <th>...</th>\n",
       "      <td>...</td>\n",
       "      <td>...</td>\n",
       "      <td>...</td>\n",
       "      <td>...</td>\n",
       "      <td>...</td>\n",
       "      <td>...</td>\n",
       "      <td>...</td>\n",
       "      <td>...</td>\n",
       "      <td>...</td>\n",
       "      <td>...</td>\n",
       "      <td>...</td>\n",
       "      <td>...</td>\n",
       "      <td>...</td>\n",
       "      <td>...</td>\n",
       "      <td>...</td>\n",
       "      <td>...</td>\n",
       "      <td>...</td>\n",
       "      <td>...</td>\n",
       "      <td>...</td>\n",
       "      <td>...</td>\n",
       "      <td>...</td>\n",
       "    </tr>\n",
       "    <tr>\n",
       "      <th>1321</th>\n",
       "      <td>Reggie Johnson</td>\n",
       "      <td>79</td>\n",
       "      <td>21.7</td>\n",
       "      <td>10.2</td>\n",
       "      <td>4.3</td>\n",
       "      <td>8.6</td>\n",
       "      <td>49.9</td>\n",
       "      <td>0.0</td>\n",
       "      <td>0.0</td>\n",
       "      <td>0.0</td>\n",
       "      <td>...</td>\n",
       "      <td>66.3</td>\n",
       "      <td>1.7</td>\n",
       "      <td>2.9</td>\n",
       "      <td>4.5</td>\n",
       "      <td>1.0</td>\n",
       "      <td>0.6</td>\n",
       "      <td>0.6</td>\n",
       "      <td>1.6</td>\n",
       "      <td>0</td>\n",
       "      <td>1980</td>\n",
       "    </tr>\n",
       "    <tr>\n",
       "      <th>1322</th>\n",
       "      <td>Billy Reid</td>\n",
       "      <td>59</td>\n",
       "      <td>10.1</td>\n",
       "      <td>3.2</td>\n",
       "      <td>1.4</td>\n",
       "      <td>3.1</td>\n",
       "      <td>45.4</td>\n",
       "      <td>0.0</td>\n",
       "      <td>0.1</td>\n",
       "      <td>0.0</td>\n",
       "      <td>...</td>\n",
       "      <td>56.4</td>\n",
       "      <td>0.5</td>\n",
       "      <td>0.6</td>\n",
       "      <td>1.0</td>\n",
       "      <td>1.2</td>\n",
       "      <td>0.6</td>\n",
       "      <td>0.1</td>\n",
       "      <td>1.3</td>\n",
       "      <td>0</td>\n",
       "      <td>1980</td>\n",
       "    </tr>\n",
       "    <tr>\n",
       "      <th>1324</th>\n",
       "      <td>John Duren</td>\n",
       "      <td>40</td>\n",
       "      <td>11.5</td>\n",
       "      <td>1.8</td>\n",
       "      <td>0.8</td>\n",
       "      <td>2.5</td>\n",
       "      <td>32.7</td>\n",
       "      <td>0.0</td>\n",
       "      <td>0.0</td>\n",
       "      <td>0.0</td>\n",
       "      <td>...</td>\n",
       "      <td>55.6</td>\n",
       "      <td>0.2</td>\n",
       "      <td>0.7</td>\n",
       "      <td>0.9</td>\n",
       "      <td>1.4</td>\n",
       "      <td>0.5</td>\n",
       "      <td>0.1</td>\n",
       "      <td>0.9</td>\n",
       "      <td>0</td>\n",
       "      <td>1980</td>\n",
       "    </tr>\n",
       "    <tr>\n",
       "      <th>1326</th>\n",
       "      <td>Kyle Macy</td>\n",
       "      <td>82</td>\n",
       "      <td>17.9</td>\n",
       "      <td>8.1</td>\n",
       "      <td>3.3</td>\n",
       "      <td>6.5</td>\n",
       "      <td>51.1</td>\n",
       "      <td>0.1</td>\n",
       "      <td>0.6</td>\n",
       "      <td>23.5</td>\n",
       "      <td>...</td>\n",
       "      <td>89.9</td>\n",
       "      <td>0.5</td>\n",
       "      <td>1.1</td>\n",
       "      <td>1.6</td>\n",
       "      <td>2.0</td>\n",
       "      <td>0.9</td>\n",
       "      <td>0.1</td>\n",
       "      <td>1.2</td>\n",
       "      <td>1</td>\n",
       "      <td>1980</td>\n",
       "    </tr>\n",
       "    <tr>\n",
       "      <th>1327</th>\n",
       "      <td>Joe Barry Carroll</td>\n",
       "      <td>82</td>\n",
       "      <td>35.6</td>\n",
       "      <td>18.9</td>\n",
       "      <td>7.5</td>\n",
       "      <td>15.3</td>\n",
       "      <td>49.1</td>\n",
       "      <td>0.0</td>\n",
       "      <td>0.0</td>\n",
       "      <td>0.0</td>\n",
       "      <td>...</td>\n",
       "      <td>71.6</td>\n",
       "      <td>3.3</td>\n",
       "      <td>5.9</td>\n",
       "      <td>9.3</td>\n",
       "      <td>1.4</td>\n",
       "      <td>0.6</td>\n",
       "      <td>1.5</td>\n",
       "      <td>3.0</td>\n",
       "      <td>1</td>\n",
       "      <td>1980</td>\n",
       "    </tr>\n",
       "  </tbody>\n",
       "</table>\n",
       "<p>1121 rows × 22 columns</p>\n",
       "</div>"
      ],
      "text/plain": [
       "                   name  gp   min   pts  fgm   fga    fg  3p_made  3pa    3p  \\\n",
       "98         Kyle O'Quinn  57  11.2   4.1  1.8   3.5  51.3      0.0  0.0   0.0   \n",
       "99        Darius Miller  52  13.3   2.3  0.8   2.1  40.7      0.4  1.1  39.3   \n",
       "100         Kim English  41   9.9   2.9  1.0   2.7  37.5      0.3  1.2  28.0   \n",
       "101     Harrison Barnes  81  25.4   9.2  3.4   7.8  43.9      0.6  1.8  35.9   \n",
       "102       Brian Roberts  78  17.0   7.1  2.7   6.6  41.7      0.8  2.0  38.6   \n",
       "...                 ...  ..   ...   ...  ...   ...   ...      ...  ...   ...   \n",
       "1321     Reggie Johnson  79  21.7  10.2  4.3   8.6  49.9      0.0  0.0   0.0   \n",
       "1322         Billy Reid  59  10.1   3.2  1.4   3.1  45.4      0.0  0.1   0.0   \n",
       "1324         John Duren  40  11.5   1.8  0.8   2.5  32.7      0.0  0.0   0.0   \n",
       "1326          Kyle Macy  82  17.9   8.1  3.3   6.5  51.1      0.1  0.6  23.5   \n",
       "1327  Joe Barry Carroll  82  35.6  18.9  7.5  15.3  49.1      0.0  0.0   0.0   \n",
       "\n",
       "      ...     ft  oreb  dreb  reb  ast  stl  blk  tov  target_5yrs  \\\n",
       "98    ...   66.7   1.1   2.5  3.7  0.9  0.2  0.5  0.7            1   \n",
       "99    ...  100.0   0.2   1.3  1.5  0.8  0.3  0.2  0.4            0   \n",
       "100   ...   72.4   0.2   0.7  0.9  0.6  0.4  0.1  0.5            0   \n",
       "101   ...   75.8   0.7   3.5  4.1  1.2  0.6  0.2  1.3            1   \n",
       "102   ...   90.9   0.2   1.0  1.2  2.8  0.5  0.0  0.9            1   \n",
       "...   ...    ...   ...   ...  ...  ...  ...  ...  ...          ...   \n",
       "1321  ...   66.3   1.7   2.9  4.5  1.0  0.6  0.6  1.6            0   \n",
       "1322  ...   56.4   0.5   0.6  1.0  1.2  0.6  0.1  1.3            0   \n",
       "1324  ...   55.6   0.2   0.7  0.9  1.4  0.5  0.1  0.9            0   \n",
       "1326  ...   89.9   0.5   1.1  1.6  2.0  0.9  0.1  1.2            1   \n",
       "1327  ...   71.6   3.3   5.9  9.3  1.4  0.6  1.5  3.0            1   \n",
       "\n",
       "      Year Drafted  \n",
       "98            2012  \n",
       "99            2012  \n",
       "100           2012  \n",
       "101           2012  \n",
       "102           2012  \n",
       "...            ...  \n",
       "1321          1980  \n",
       "1322          1980  \n",
       "1324          1980  \n",
       "1326          1980  \n",
       "1327          1980  \n",
       "\n",
       "[1121 rows x 22 columns]"
      ]
     },
     "execution_count": 10,
     "metadata": {},
     "output_type": "execute_result"
    }
   ],
   "source": [
    "df = df[df['Year Drafted'] < 2013]\n",
    "df"
   ]
  },
  {
   "cell_type": "markdown",
   "id": "4944d0ac",
   "metadata": {},
   "source": [
    "## EDA"
   ]
  },
  {
   "cell_type": "code",
   "execution_count": 11,
   "id": "6904298b",
   "metadata": {},
   "outputs": [
    {
     "data": {
      "text/plain": [
       "<AxesSubplot:>"
      ]
     },
     "execution_count": 11,
     "metadata": {},
     "output_type": "execute_result"
    },
    {
     "data": {
      "image/png": "[encoded data removed]",
      "text/plain": [
       "<Figure size 864x864 with 2 Axes>"
      ]
     },
     "metadata": {
      "needs_background": "light"
     },
     "output_type": "display_data"
    }
   ],
   "source": [
    "plt.figure(figsize=(12,12))\n",
    "sns.heatmap(df.corr(), annot=True, cmap='viridis')"
   ]
  },
  {
   "cell_type": "code",
   "execution_count": 12,
   "id": "8a1a4ab5",
   "metadata": {},
   "outputs": [
    {
     "data": {
      "text/plain": [
       "Year Drafted    0.039984\n",
       "3p              0.050384\n",
       "3pa             0.113384\n",
       "3p_made         0.117835\n",
       "ft              0.139435\n",
       "ast             0.214056\n",
       "fg              0.220020\n",
       "blk             0.236490\n",
       "stl             0.279787\n",
       "oreb            0.292800\n",
       "tov             0.296483\n",
       "fta             0.312414\n",
       "ftm             0.316961\n",
       "fga             0.327840\n",
       "reb             0.345065\n",
       "fgm             0.350570\n",
       "pts             0.352239\n",
       "dreb            0.354961\n",
       "min             0.380277\n",
       "gp              0.409866\n",
       "target_5yrs     1.000000\n",
       "Name: target_5yrs, dtype: float64"
      ]
     },
     "execution_count": 12,
     "metadata": {},
     "output_type": "execute_result"
    }
   ],
   "source": [
    "df.corr()['target_5yrs'].sort_values()"
   ]
  },
  {
   "cell_type": "markdown",
   "id": "ad1550c7",
   "metadata": {},
   "source": [
    "## Checking for Multicollinearity"
   ]
  },
  {
   "cell_type": "code",
   "execution_count": 13,
   "id": "1af0af90",
   "metadata": {},
   "outputs": [
    {
     "name": "stdout",
     "output_type": "stream",
     "text": [
      "         feature           VIF\n",
      "0             gp     25.433577\n",
      "1            min     92.409005\n",
      "2            pts  12143.604748\n",
      "3            fgm   7043.815448\n",
      "4            fga    503.354511\n",
      "5             fg    209.115886\n",
      "6        3p_made     85.259725\n",
      "7            3pa     69.402458\n",
      "8             3p      3.893181\n",
      "9            ftm    624.603041\n",
      "10           fta    215.553692\n",
      "11            ft    112.704667\n",
      "12          oreb    660.323570\n",
      "13          dreb   2275.804716\n",
      "14           reb   5197.469394\n",
      "15           ast     11.129341\n",
      "16           stl     11.516140\n",
      "17           blk      3.825927\n",
      "18           tov     30.637552\n",
      "19  Year Drafted    324.088192\n"
     ]
    }
   ],
   "source": [
    "# import library for VIF\n",
    "from statsmodels.stats.outliers_influence import variance_inflation_factor\n",
    "\n",
    "# setting the variables to check\n",
    "X = df.drop(['name', 'target_5yrs'], axis=1)\n",
    "\n",
    "# VIF dataframe\n",
    "vif_data = pd.DataFrame()\n",
    "vif_data['feature'] = X.columns\n",
    "\n",
    "# calculating VIF for each feature\n",
    "vif_data['VIF'] = [variance_inflation_factor(X.values, i) for i in range(len(X.columns))]\n",
    "print(vif_data)"
   ]
  },
  {
   "cell_type": "code",
   "execution_count": 14,
   "id": "84e8c75c",
   "metadata": {},
   "outputs": [
    {
     "data": {
      "text/plain": [
       "1    759\n",
       "0    362\n",
       "Name: target_5yrs, dtype: int64"
      ]
     },
     "execution_count": 14,
     "metadata": {},
     "output_type": "execute_result"
    }
   ],
   "source": [
    "df['target_5yrs'].value_counts()"
   ]
  },
  {
   "cell_type": "code",
   "execution_count": 15,
   "id": "b042ce28",
   "metadata": {},
   "outputs": [
    {
     "data": {
      "text/plain": [
       "<AxesSubplot:xlabel='target_5yrs', ylabel='count'>"
      ]
     },
     "execution_count": 15,
     "metadata": {},
     "output_type": "execute_result"
    },
    {
     "data": {
      "image/png": "[encoded data removed]",
      "text/plain": [
       "<Figure size 432x288 with 1 Axes>"
      ]
     },
     "metadata": {
      "needs_background": "light"
     },
     "output_type": "display_data"
    }
   ],
   "source": [
    "sns.countplot(data=df, x='target_5yrs')"
   ]
  },
  {
   "cell_type": "markdown",
   "id": "99af65d8",
   "metadata": {},
   "source": [
    "## Looks like we have an imbalanced dataset..."
   ]
  },
  {
   "cell_type": "code",
   "execution_count": 16,
   "id": "f4b157b5",
   "metadata": {},
   "outputs": [
    {
     "data": {
      "text/plain": [
       "<AxesSubplot:xlabel='gp', ylabel='pts'>"
      ]
     },
     "execution_count": 16,
     "metadata": {},
     "output_type": "execute_result"
    },
    {
     "data": {
      "image/png": "[encoded data removed]",
      "text/plain": [
       "<Figure size 432x288 with 1 Axes>"
      ]
     },
     "metadata": {
      "needs_background": "light"
     },
     "output_type": "display_data"
    }
   ],
   "source": [
    "sns.scatterplot(x='gp', y='pts', data=df, hue='target_5yrs')"
   ]
  },
  {
   "cell_type": "code",
   "execution_count": 17,
   "id": "6c1737a2",
   "metadata": {},
   "outputs": [],
   "source": [
    "#sns.pairplot(df, hue='target_5yrs')"
   ]
  },
  {
   "cell_type": "markdown",
   "id": "5cb41b4a",
   "metadata": {},
   "source": [
    "# Refining dataset with features that aren't highly correlated with each other"
   ]
  },
  {
   "cell_type": "code",
   "execution_count": 18,
   "id": "87ef1599",
   "metadata": {},
   "outputs": [
    {
     "data": {
      "text/plain": [
       "Year Drafted    0.039984\n",
       "3p              0.050384\n",
       "3pa             0.113384\n",
       "3p_made         0.117835\n",
       "ft              0.139435\n",
       "ast             0.214056\n",
       "fg              0.220020\n",
       "blk             0.236490\n",
       "stl             0.279787\n",
       "oreb            0.292800\n",
       "tov             0.296483\n",
       "fta             0.312414\n",
       "ftm             0.316961\n",
       "fga             0.327840\n",
       "reb             0.345065\n",
       "fgm             0.350570\n",
       "pts             0.352239\n",
       "dreb            0.354961\n",
       "min             0.380277\n",
       "gp              0.409866\n",
       "target_5yrs     1.000000\n",
       "Name: target_5yrs, dtype: float64"
      ]
     },
     "execution_count": 18,
     "metadata": {},
     "output_type": "execute_result"
    }
   ],
   "source": [
    "df.corr()['target_5yrs'].sort_values()"
   ]
  },
  {
   "cell_type": "markdown",
   "id": "edd82e75",
   "metadata": {},
   "source": [
    "## Many of the features available to us are very similar and highly correlated with each other. For this reason, we will drop the others but keep one. For example, there are stats for Offensive Rebounds, Defensive Rebounds, and Rebounds (total). In this case, we will keep the Rebounds (total)."
   ]
  },
  {
   "cell_type": "markdown",
   "id": "ddb434c3",
   "metadata": {},
   "source": [
    "### Similarly --> FieldGoalsMade (FGM), FieldGoalAttempts(FGA), FieldGoalPercentage(FG%) --> keeping FG% even though FGM is more highly correlated with target_5yrs. We chose FG% because it is a measure of scoring efficiency while FGM is highly correlated with FGA. FGA can be explained by the role the rookie has on their team and we know that each rookie's role is different depending on the talent of the roster they are on"
   ]
  },
  {
   "cell_type": "markdown",
   "id": "acb1dc19",
   "metadata": {},
   "source": [
    "### 3P_made, 3PA, 3P%, --> we will keep 3P% to stay consistent in our measures of a players' scoring efficiency"
   ]
  },
  {
   "cell_type": "markdown",
   "id": "7f92e231",
   "metadata": {},
   "source": [
    "### Finally... FreeThrowsMade (FTM), FreeThrowsAttempted (FTA), FreeThrowPercentage(FT) --> keep FT to maintain consistency for player's scoring efficiency"
   ]
  },
  {
   "cell_type": "code",
   "execution_count": 19,
   "id": "e9d6bbbd",
   "metadata": {},
   "outputs": [
    {
     "data": {
      "text/plain": [
       "Index(['name', 'gp', 'min', 'pts', 'fgm', 'fga', 'fg', '3p_made', '3pa', '3p',\n",
       "       'ftm', 'fta', 'ft', 'oreb', 'dreb', 'reb', 'ast', 'stl', 'blk', 'tov',\n",
       "       'target_5yrs', 'Year Drafted'],\n",
       "      dtype='object')"
      ]
     },
     "execution_count": 19,
     "metadata": {},
     "output_type": "execute_result"
    }
   ],
   "source": [
    "df.columns"
   ]
  },
  {
   "cell_type": "code",
   "execution_count": 20,
   "id": "1782a1d3",
   "metadata": {},
   "outputs": [],
   "source": [
    "df = df.drop(['name','fgm','fga','3p_made','3pa','ftm','fta','oreb','dreb','Year Drafted'], axis=1)"
   ]
  },
  {
   "cell_type": "code",
   "execution_count": 21,
   "id": "a4ef6718",
   "metadata": {},
   "outputs": [
    {
     "data": {
      "text/html": [
       "<div>\n",
       "<style scoped>\n",
       "    .dataframe tbody tr th:only-of-type {\n",
       "        vertical-align: middle;\n",
       "    }\n",
       "\n",
       "    .dataframe tbody tr th {\n",
       "        vertical-align: top;\n",
       "    }\n",
       "\n",
       "    .dataframe thead th {\n",
       "        text-align: right;\n",
       "    }\n",
       "</style>\n",
       "<table border=\"1\" class=\"dataframe\">\n",
       "  <thead>\n",
       "    <tr style=\"text-align: right;\">\n",
       "      <th></th>\n",
       "      <th>gp</th>\n",
       "      <th>min</th>\n",
       "      <th>pts</th>\n",
       "      <th>fg</th>\n",
       "      <th>3p</th>\n",
       "      <th>ft</th>\n",
       "      <th>reb</th>\n",
       "      <th>ast</th>\n",
       "      <th>stl</th>\n",
       "      <th>blk</th>\n",
       "      <th>tov</th>\n",
       "      <th>target_5yrs</th>\n",
       "    </tr>\n",
       "  </thead>\n",
       "  <tbody>\n",
       "    <tr>\n",
       "      <th>98</th>\n",
       "      <td>57</td>\n",
       "      <td>11.2</td>\n",
       "      <td>4.1</td>\n",
       "      <td>51.3</td>\n",
       "      <td>0.0</td>\n",
       "      <td>66.7</td>\n",
       "      <td>3.7</td>\n",
       "      <td>0.9</td>\n",
       "      <td>0.2</td>\n",
       "      <td>0.5</td>\n",
       "      <td>0.7</td>\n",
       "      <td>1</td>\n",
       "    </tr>\n",
       "    <tr>\n",
       "      <th>99</th>\n",
       "      <td>52</td>\n",
       "      <td>13.3</td>\n",
       "      <td>2.3</td>\n",
       "      <td>40.7</td>\n",
       "      <td>39.3</td>\n",
       "      <td>100.0</td>\n",
       "      <td>1.5</td>\n",
       "      <td>0.8</td>\n",
       "      <td>0.3</td>\n",
       "      <td>0.2</td>\n",
       "      <td>0.4</td>\n",
       "      <td>0</td>\n",
       "    </tr>\n",
       "    <tr>\n",
       "      <th>100</th>\n",
       "      <td>41</td>\n",
       "      <td>9.9</td>\n",
       "      <td>2.9</td>\n",
       "      <td>37.5</td>\n",
       "      <td>28.0</td>\n",
       "      <td>72.4</td>\n",
       "      <td>0.9</td>\n",
       "      <td>0.6</td>\n",
       "      <td>0.4</td>\n",
       "      <td>0.1</td>\n",
       "      <td>0.5</td>\n",
       "      <td>0</td>\n",
       "    </tr>\n",
       "    <tr>\n",
       "      <th>101</th>\n",
       "      <td>81</td>\n",
       "      <td>25.4</td>\n",
       "      <td>9.2</td>\n",
       "      <td>43.9</td>\n",
       "      <td>35.9</td>\n",
       "      <td>75.8</td>\n",
       "      <td>4.1</td>\n",
       "      <td>1.2</td>\n",
       "      <td>0.6</td>\n",
       "      <td>0.2</td>\n",
       "      <td>1.3</td>\n",
       "      <td>1</td>\n",
       "    </tr>\n",
       "    <tr>\n",
       "      <th>102</th>\n",
       "      <td>78</td>\n",
       "      <td>17.0</td>\n",
       "      <td>7.1</td>\n",
       "      <td>41.7</td>\n",
       "      <td>38.6</td>\n",
       "      <td>90.9</td>\n",
       "      <td>1.2</td>\n",
       "      <td>2.8</td>\n",
       "      <td>0.5</td>\n",
       "      <td>0.0</td>\n",
       "      <td>0.9</td>\n",
       "      <td>1</td>\n",
       "    </tr>\n",
       "    <tr>\n",
       "      <th>...</th>\n",
       "      <td>...</td>\n",
       "      <td>...</td>\n",
       "      <td>...</td>\n",
       "      <td>...</td>\n",
       "      <td>...</td>\n",
       "      <td>...</td>\n",
       "      <td>...</td>\n",
       "      <td>...</td>\n",
       "      <td>...</td>\n",
       "      <td>...</td>\n",
       "      <td>...</td>\n",
       "      <td>...</td>\n",
       "    </tr>\n",
       "    <tr>\n",
       "      <th>1321</th>\n",
       "      <td>79</td>\n",
       "      <td>21.7</td>\n",
       "      <td>10.2</td>\n",
       "      <td>49.9</td>\n",
       "      <td>0.0</td>\n",
       "      <td>66.3</td>\n",
       "      <td>4.5</td>\n",
       "      <td>1.0</td>\n",
       "      <td>0.6</td>\n",
       "      <td>0.6</td>\n",
       "      <td>1.6</td>\n",
       "      <td>0</td>\n",
       "    </tr>\n",
       "    <tr>\n",
       "      <th>1322</th>\n",
       "      <td>59</td>\n",
       "      <td>10.1</td>\n",
       "      <td>3.2</td>\n",
       "      <td>45.4</td>\n",
       "      <td>0.0</td>\n",
       "      <td>56.4</td>\n",
       "      <td>1.0</td>\n",
       "      <td>1.2</td>\n",
       "      <td>0.6</td>\n",
       "      <td>0.1</td>\n",
       "      <td>1.3</td>\n",
       "      <td>0</td>\n",
       "    </tr>\n",
       "    <tr>\n",
       "      <th>1324</th>\n",
       "      <td>40</td>\n",
       "      <td>11.5</td>\n",
       "      <td>1.8</td>\n",
       "      <td>32.7</td>\n",
       "      <td>0.0</td>\n",
       "      <td>55.6</td>\n",
       "      <td>0.9</td>\n",
       "      <td>1.4</td>\n",
       "      <td>0.5</td>\n",
       "      <td>0.1</td>\n",
       "      <td>0.9</td>\n",
       "      <td>0</td>\n",
       "    </tr>\n",
       "    <tr>\n",
       "      <th>1326</th>\n",
       "      <td>82</td>\n",
       "      <td>17.9</td>\n",
       "      <td>8.1</td>\n",
       "      <td>51.1</td>\n",
       "      <td>23.5</td>\n",
       "      <td>89.9</td>\n",
       "      <td>1.6</td>\n",
       "      <td>2.0</td>\n",
       "      <td>0.9</td>\n",
       "      <td>0.1</td>\n",
       "      <td>1.2</td>\n",
       "      <td>1</td>\n",
       "    </tr>\n",
       "    <tr>\n",
       "      <th>1327</th>\n",
       "      <td>82</td>\n",
       "      <td>35.6</td>\n",
       "      <td>18.9</td>\n",
       "      <td>49.1</td>\n",
       "      <td>0.0</td>\n",
       "      <td>71.6</td>\n",
       "      <td>9.3</td>\n",
       "      <td>1.4</td>\n",
       "      <td>0.6</td>\n",
       "      <td>1.5</td>\n",
       "      <td>3.0</td>\n",
       "      <td>1</td>\n",
       "    </tr>\n",
       "  </tbody>\n",
       "</table>\n",
       "<p>1121 rows × 12 columns</p>\n",
       "</div>"
      ],
      "text/plain": [
       "      gp   min   pts    fg    3p     ft  reb  ast  stl  blk  tov  target_5yrs\n",
       "98    57  11.2   4.1  51.3   0.0   66.7  3.7  0.9  0.2  0.5  0.7            1\n",
       "99    52  13.3   2.3  40.7  39.3  100.0  1.5  0.8  0.3  0.2  0.4            0\n",
       "100   41   9.9   2.9  37.5  28.0   72.4  0.9  0.6  0.4  0.1  0.5            0\n",
       "101   81  25.4   9.2  43.9  35.9   75.8  4.1  1.2  0.6  0.2  1.3            1\n",
       "102   78  17.0   7.1  41.7  38.6   90.9  1.2  2.8  0.5  0.0  0.9            1\n",
       "...   ..   ...   ...   ...   ...    ...  ...  ...  ...  ...  ...          ...\n",
       "1321  79  21.7  10.2  49.9   0.0   66.3  4.5  1.0  0.6  0.6  1.6            0\n",
       "1322  59  10.1   3.2  45.4   0.0   56.4  1.0  1.2  0.6  0.1  1.3            0\n",
       "1324  40  11.5   1.8  32.7   0.0   55.6  0.9  1.4  0.5  0.1  0.9            0\n",
       "1326  82  17.9   8.1  51.1  23.5   89.9  1.6  2.0  0.9  0.1  1.2            1\n",
       "1327  82  35.6  18.9  49.1   0.0   71.6  9.3  1.4  0.6  1.5  3.0            1\n",
       "\n",
       "[1121 rows x 12 columns]"
      ]
     },
     "execution_count": 21,
     "metadata": {},
     "output_type": "execute_result"
    }
   ],
   "source": [
    "df"
   ]
  },
  {
   "cell_type": "code",
   "execution_count": 22,
   "id": "6f2b3c7a",
   "metadata": {},
   "outputs": [
    {
     "data": {
      "text/plain": [
       "<AxesSubplot:>"
      ]
     },
     "execution_count": 22,
     "metadata": {},
     "output_type": "execute_result"
    },
    {
     "data": {
      "image/png": "[encoded data removed]",
      "text/plain": [
       "<Figure size 864x864 with 2 Axes>"
      ]
     },
     "metadata": {
      "needs_background": "light"
     },
     "output_type": "display_data"
    }
   ],
   "source": [
    "# new heatmap\n",
    "plt.figure(figsize=(12,12))\n",
    "sns.heatmap(df.corr(), annot=True)"
   ]
  },
  {
   "cell_type": "code",
   "execution_count": 23,
   "id": "1e275eb8",
   "metadata": {},
   "outputs": [
    {
     "data": {
      "text/plain": [
       "3p             0.050384\n",
       "ft             0.139435\n",
       "ast            0.214056\n",
       "fg             0.220020\n",
       "blk            0.236490\n",
       "stl            0.279787\n",
       "tov            0.296483\n",
       "reb            0.345065\n",
       "pts            0.352239\n",
       "min            0.380277\n",
       "gp             0.409866\n",
       "target_5yrs    1.000000\n",
       "Name: target_5yrs, dtype: float64"
      ]
     },
     "execution_count": 23,
     "metadata": {},
     "output_type": "execute_result"
    }
   ],
   "source": [
    "df.corr()['target_5yrs'].sort_values()"
   ]
  },
  {
   "cell_type": "markdown",
   "id": "5ffd2095",
   "metadata": {},
   "source": [
    "# Baseline Model - Logistic Regression (1 feature)"
   ]
  },
  {
   "cell_type": "markdown",
   "id": "cbf68ed5",
   "metadata": {},
   "source": [
    "## Using the highest correlated features with our target - games_played"
   ]
  },
  {
   "cell_type": "code",
   "execution_count": 24,
   "id": "44f6803b",
   "metadata": {},
   "outputs": [],
   "source": [
    "X = df[['fg']]\n",
    "y = df['target_5yrs']"
   ]
  },
  {
   "cell_type": "code",
   "execution_count": 25,
   "id": "9efad8f8",
   "metadata": {},
   "outputs": [
    {
     "data": {
      "text/html": [
       "<div>\n",
       "<style scoped>\n",
       "    .dataframe tbody tr th:only-of-type {\n",
       "        vertical-align: middle;\n",
       "    }\n",
       "\n",
       "    .dataframe tbody tr th {\n",
       "        vertical-align: top;\n",
       "    }\n",
       "\n",
       "    .dataframe thead th {\n",
       "        text-align: right;\n",
       "    }\n",
       "</style>\n",
       "<table border=\"1\" class=\"dataframe\">\n",
       "  <thead>\n",
       "    <tr style=\"text-align: right;\">\n",
       "      <th></th>\n",
       "      <th>fg</th>\n",
       "    </tr>\n",
       "  </thead>\n",
       "  <tbody>\n",
       "    <tr>\n",
       "      <th>98</th>\n",
       "      <td>51.3</td>\n",
       "    </tr>\n",
       "    <tr>\n",
       "      <th>99</th>\n",
       "      <td>40.7</td>\n",
       "    </tr>\n",
       "    <tr>\n",
       "      <th>100</th>\n",
       "      <td>37.5</td>\n",
       "    </tr>\n",
       "    <tr>\n",
       "      <th>101</th>\n",
       "      <td>43.9</td>\n",
       "    </tr>\n",
       "    <tr>\n",
       "      <th>102</th>\n",
       "      <td>41.7</td>\n",
       "    </tr>\n",
       "    <tr>\n",
       "      <th>...</th>\n",
       "      <td>...</td>\n",
       "    </tr>\n",
       "    <tr>\n",
       "      <th>1321</th>\n",
       "      <td>49.9</td>\n",
       "    </tr>\n",
       "    <tr>\n",
       "      <th>1322</th>\n",
       "      <td>45.4</td>\n",
       "    </tr>\n",
       "    <tr>\n",
       "      <th>1324</th>\n",
       "      <td>32.7</td>\n",
       "    </tr>\n",
       "    <tr>\n",
       "      <th>1326</th>\n",
       "      <td>51.1</td>\n",
       "    </tr>\n",
       "    <tr>\n",
       "      <th>1327</th>\n",
       "      <td>49.1</td>\n",
       "    </tr>\n",
       "  </tbody>\n",
       "</table>\n",
       "<p>1121 rows × 1 columns</p>\n",
       "</div>"
      ],
      "text/plain": [
       "        fg\n",
       "98    51.3\n",
       "99    40.7\n",
       "100   37.5\n",
       "101   43.9\n",
       "102   41.7\n",
       "...    ...\n",
       "1321  49.9\n",
       "1322  45.4\n",
       "1324  32.7\n",
       "1326  51.1\n",
       "1327  49.1\n",
       "\n",
       "[1121 rows x 1 columns]"
      ]
     },
     "execution_count": 25,
     "metadata": {},
     "output_type": "execute_result"
    }
   ],
   "source": [
    "X"
   ]
  },
  {
   "cell_type": "markdown",
   "id": "08fbe848",
   "metadata": {},
   "source": [
    "## Train | Test Split and Scaling"
   ]
  },
  {
   "cell_type": "markdown",
   "id": "631d11d1",
   "metadata": {},
   "source": [
    "## Note: Splitting into training, validation, and test set\n",
    "## Test set will be used at the very end of our modeling process and fit to our best performing model"
   ]
  },
  {
   "cell_type": "code",
   "execution_count": 26,
   "id": "d12afab1",
   "metadata": {},
   "outputs": [],
   "source": [
    "from sklearn.model_selection import train_test_split\n",
    "\n",
    "# first, split into training and testing data\n",
    "X_train, X_test, y_train, y_test = train_test_split(X, y, test_size=0.2, random_state=42)\n",
    "\n",
    "# splitting the training data into training and validation data\n",
    "X_train, X_val, y_train, y_val = train_test_split(X_train, y_train, test_size=0.25, random_state=42)"
   ]
  },
  {
   "cell_type": "code",
   "execution_count": 27,
   "id": "3c4effec",
   "metadata": {},
   "outputs": [],
   "source": [
    "# scaling the data\n",
    "from sklearn.preprocessing import StandardScaler\n",
    "\n",
    "scaler = StandardScaler()\n",
    "\n",
    "scaled_X_train = scaler.fit_transform(X_train)\n",
    "scaled_X_val = scaler.transform(X_val)\n",
    "scaled_X_test = scaler.transform(X_test)"
   ]
  },
  {
   "cell_type": "markdown",
   "id": "d19b8358",
   "metadata": {},
   "source": [
    "# Model 1 - Baseline Logistic Regression"
   ]
  },
  {
   "cell_type": "code",
   "execution_count": 28,
   "id": "7c9f46fa",
   "metadata": {},
   "outputs": [],
   "source": [
    "from sklearn.linear_model import LogisticRegression"
   ]
  },
  {
   "cell_type": "code",
   "execution_count": 97,
   "id": "a6af13a2",
   "metadata": {},
   "outputs": [
    {
     "data": {
      "text/plain": [
       "LogisticRegression(random_state=42)"
      ]
     },
     "execution_count": 97,
     "metadata": {},
     "output_type": "execute_result"
    }
   ],
   "source": [
    "# base model --> default parameters\n",
    "log_model = LogisticRegression(random_state=42)\n",
    "\n",
    "# fit training data\n",
    "log_model.fit(scaled_X_train, y_train)"
   ]
  },
  {
   "cell_type": "code",
   "execution_count": 98,
   "id": "93dc0daa",
   "metadata": {},
   "outputs": [
    {
     "data": {
      "text/plain": [
       "array([[ 0.68560802, -0.6506343 ,  0.40134388,  0.11010815,  0.01405822,\n",
       "         0.23883954,  0.62667256,  0.35829191,  0.03106558,  0.11878302,\n",
       "        -0.20230491]])"
      ]
     },
     "execution_count": 98,
     "metadata": {},
     "output_type": "execute_result"
    }
   ],
   "source": [
    "log_model.coef_"
   ]
  },
  {
   "cell_type": "markdown",
   "id": "dfa39b4a",
   "metadata": {},
   "source": [
    "This means:\n",
    "* We can expect the **odds** of the rookie's career being over 5 years to **increase** (the original coeff was negative) per unit increase of games played."
   ]
  },
  {
   "cell_type": "code",
   "execution_count": 99,
   "id": "2ff95c4c",
   "metadata": {},
   "outputs": [],
   "source": [
    "from sklearn.metrics import accuracy_score,confusion_matrix,classification_report,plot_confusion_matrix"
   ]
  },
  {
   "cell_type": "code",
   "execution_count": 100,
   "id": "f6c34a52",
   "metadata": {},
   "outputs": [],
   "source": [
    "y_pred = log_model.predict(scaled_X_val)"
   ]
  },
  {
   "cell_type": "code",
   "execution_count": 101,
   "id": "fd344e9a",
   "metadata": {},
   "outputs": [
    {
     "data": {
      "text/plain": [
       "0.6804511278195489"
      ]
     },
     "execution_count": 101,
     "metadata": {},
     "output_type": "execute_result"
    }
   ],
   "source": [
    "accuracy_score(y_val,y_pred)"
   ]
  },
  {
   "cell_type": "code",
   "execution_count": 102,
   "id": "5ffcfb16",
   "metadata": {},
   "outputs": [
    {
     "data": {
      "text/plain": [
       "<sklearn.metrics._plot.confusion_matrix.ConfusionMatrixDisplay at 0x7fa5885be190>"
      ]
     },
     "execution_count": 102,
     "metadata": {},
     "output_type": "execute_result"
    },
    {
     "data": {
      "image/png": "[encoded data removed]",
      "text/plain": [
       "<Figure size 432x288 with 2 Axes>"
      ]
     },
     "metadata": {
      "needs_background": "light"
     },
     "output_type": "display_data"
    }
   ],
   "source": [
    "plot_confusion_matrix(log_model, scaled_X_val, y_val)"
   ]
  },
  {
   "cell_type": "code",
   "execution_count": 103,
   "id": "7c772c73",
   "metadata": {},
   "outputs": [
    {
     "data": {
      "text/plain": [
       "<sklearn.metrics._plot.confusion_matrix.ConfusionMatrixDisplay at 0x7fa588bbb850>"
      ]
     },
     "execution_count": 103,
     "metadata": {},
     "output_type": "execute_result"
    },
    {
     "data": {
      "image/png": "[encoded data removed]",
      "text/plain": [
       "<Figure size 432x288 with 2 Axes>"
      ]
     },
     "metadata": {
      "needs_background": "light"
     },
     "output_type": "display_data"
    }
   ],
   "source": [
    "plot_confusion_matrix(log_model, scaled_X_val, y_val,normalize='true')"
   ]
  },
  {
   "cell_type": "code",
   "execution_count": 104,
   "id": "c8ff7ffa",
   "metadata": {},
   "outputs": [
    {
     "name": "stdout",
     "output_type": "stream",
     "text": [
      "              precision    recall  f1-score   support\n",
      "\n",
      "           0       0.60      0.49      0.54       102\n",
      "           1       0.72      0.80      0.76       164\n",
      "\n",
      "    accuracy                           0.68       266\n",
      "   macro avg       0.66      0.64      0.65       266\n",
      "weighted avg       0.67      0.68      0.67       266\n",
      "\n"
     ]
    }
   ],
   "source": [
    "print(classification_report(y_val,y_pred))"
   ]
  },
  {
   "cell_type": "markdown",
   "id": "f5791343",
   "metadata": {},
   "source": [
    "### Evaluating AUC"
   ]
  },
  {
   "cell_type": "code",
   "execution_count": 105,
   "id": "fc35cd42",
   "metadata": {},
   "outputs": [],
   "source": [
    "from sklearn.metrics import precision_recall_curve,plot_precision_recall_curve,plot_roc_curve"
   ]
  },
  {
   "cell_type": "code",
   "execution_count": 106,
   "id": "34698256",
   "metadata": {},
   "outputs": [
    {
     "data": {
      "text/plain": [
       "<sklearn.metrics._plot.precision_recall_curve.PrecisionRecallDisplay at 0x7fa588bf47f0>"
      ]
     },
     "execution_count": 106,
     "metadata": {},
     "output_type": "execute_result"
    },
    {
     "data": {
      "image/png": "[encoded data removed]",
      "text/plain": [
       "<Figure size 432x288 with 1 Axes>"
      ]
     },
     "metadata": {
      "needs_background": "light"
     },
     "output_type": "display_data"
    }
   ],
   "source": [
    "plot_precision_recall_curve(log_model, scaled_X_val, y_val )"
   ]
  },
  {
   "cell_type": "code",
   "execution_count": 107,
   "id": "ac17cdad",
   "metadata": {},
   "outputs": [
    {
     "data": {
      "text/plain": [
       "<sklearn.metrics._plot.roc_curve.RocCurveDisplay at 0x7fa588e8eb50>"
      ]
     },
     "execution_count": 107,
     "metadata": {},
     "output_type": "execute_result"
    },
    {
     "data": {
      "image/png": "[encoded data removed]",
      "text/plain": [
       "<Figure size 432x288 with 1 Axes>"
      ]
     },
     "metadata": {
      "needs_background": "light"
     },
     "output_type": "display_data"
    }
   ],
   "source": [
    "plot_roc_curve(log_model,scaled_X_val,y_val)"
   ]
  },
  {
   "cell_type": "markdown",
   "id": "a39d1aea",
   "metadata": {},
   "source": [
    "# Model 2 - Baseline Decision Tree\n",
    "### For our baseline model, we decided to implement a decision tree and used field goal percentage (ft) as our feature. We chose to go with a percentage because statistics like games played, points per game, and minutes per game contain bias. This is because not every rookie's situation is the same when they come into the league. High draft picks (ex. 1-5 overall) usually have different roles to their team than players drafted (20-30 overall). Field goal percentage is a measure of a player's efficiency because it measures how many total shots they made (excluding free throws) divided by the total amount of shots they took (excluding free throws. "
   ]
  },
  {
   "cell_type": "code",
   "execution_count": 108,
   "id": "fd283a2d",
   "metadata": {},
   "outputs": [],
   "source": [
    "from sklearn.tree import DecisionTreeClassifier"
   ]
  },
  {
   "cell_type": "code",
   "execution_count": 109,
   "id": "13e9e414",
   "metadata": {},
   "outputs": [],
   "source": [
    "base_tree = DecisionTreeClassifier(random_state=42)"
   ]
  },
  {
   "cell_type": "code",
   "execution_count": 110,
   "id": "b21b6d73",
   "metadata": {},
   "outputs": [
    {
     "data": {
      "text/plain": [
       "DecisionTreeClassifier(random_state=42)"
      ]
     },
     "execution_count": 110,
     "metadata": {},
     "output_type": "execute_result"
    }
   ],
   "source": [
    "base_tree.fit(X_train, y_train)"
   ]
  },
  {
   "cell_type": "code",
   "execution_count": 111,
   "id": "e17fd53b",
   "metadata": {},
   "outputs": [],
   "source": [
    "tree_preds = base_tree.predict(X_val)"
   ]
  },
  {
   "cell_type": "markdown",
   "id": "7c1adce1",
   "metadata": {},
   "source": [
    "### Evaluation"
   ]
  },
  {
   "cell_type": "code",
   "execution_count": 44,
   "id": "b5bde32e",
   "metadata": {},
   "outputs": [
    {
     "name": "stdout",
     "output_type": "stream",
     "text": [
      "              precision    recall  f1-score   support\n",
      "\n",
      "           0       0.36      0.32      0.34        74\n",
      "           1       0.68      0.72      0.70       150\n",
      "\n",
      "    accuracy                           0.59       224\n",
      "   macro avg       0.52      0.52      0.52       224\n",
      "weighted avg       0.58      0.59      0.58       224\n",
      "\n"
     ]
    }
   ],
   "source": [
    "print(classification_report(y_val, tree_preds))"
   ]
  },
  {
   "cell_type": "code",
   "execution_count": 45,
   "id": "df2385bd",
   "metadata": {},
   "outputs": [
    {
     "data": {
      "text/plain": [
       "<sklearn.metrics._plot.confusion_matrix.ConfusionMatrixDisplay at 0x7fa586c95be0>"
      ]
     },
     "execution_count": 45,
     "metadata": {},
     "output_type": "execute_result"
    },
    {
     "data": {
      "image/png": "[encoded data removed]",
      "text/plain": [
       "<Figure size 432x288 with 2 Axes>"
      ]
     },
     "metadata": {
      "needs_background": "light"
     },
     "output_type": "display_data"
    }
   ],
   "source": [
    "plot_confusion_matrix(base_tree,X_val,y_val)"
   ]
  },
  {
   "cell_type": "markdown",
   "id": "0bb5681d",
   "metadata": {},
   "source": [
    "### Curves"
   ]
  },
  {
   "cell_type": "code",
   "execution_count": 46,
   "id": "3f6b84c2",
   "metadata": {},
   "outputs": [
    {
     "data": {
      "text/plain": [
       "<sklearn.metrics._plot.precision_recall_curve.PrecisionRecallDisplay at 0x7fa5847f7ac0>"
      ]
     },
     "execution_count": 46,
     "metadata": {},
     "output_type": "execute_result"
    },
    {
     "data": {
      "image/png": "[encoded data removed]",
      "text/plain": [
       "<Figure size 432x288 with 1 Axes>"
      ]
     },
     "metadata": {
      "needs_background": "light"
     },
     "output_type": "display_data"
    }
   ],
   "source": [
    "plot_precision_recall_curve(base_tree, X_val, y_val )"
   ]
  },
  {
   "cell_type": "code",
   "execution_count": 47,
   "id": "8c1fc833",
   "metadata": {},
   "outputs": [
    {
     "data": {
      "text/plain": [
       "<sklearn.metrics._plot.roc_curve.RocCurveDisplay at 0x7fa58482ed30>"
      ]
     },
     "execution_count": 47,
     "metadata": {},
     "output_type": "execute_result"
    },
    {
     "data": {
      "image/png": "[encoded data removed]",
      "text/plain": [
       "<Figure size 432x288 with 1 Axes>"
      ]
     },
     "metadata": {
      "needs_background": "light"
     },
     "output_type": "display_data"
    }
   ],
   "source": [
    "plot_roc_curve(base_tree,X_val,y_val)"
   ]
  },
  {
   "cell_type": "markdown",
   "id": "c9cb816b",
   "metadata": {},
   "source": [
    "# Model 3 - Logistic Regression CV"
   ]
  },
  {
   "cell_type": "code",
   "execution_count": 48,
   "id": "c176ddcc",
   "metadata": {},
   "outputs": [],
   "source": [
    "from sklearn.linear_model import LogisticRegressionCV"
   ]
  },
  {
   "cell_type": "code",
   "execution_count": 49,
   "id": "2105bf32",
   "metadata": {},
   "outputs": [
    {
     "data": {
      "text/html": [
       "<div>\n",
       "<style scoped>\n",
       "    .dataframe tbody tr th:only-of-type {\n",
       "        vertical-align: middle;\n",
       "    }\n",
       "\n",
       "    .dataframe tbody tr th {\n",
       "        vertical-align: top;\n",
       "    }\n",
       "\n",
       "    .dataframe thead th {\n",
       "        text-align: right;\n",
       "    }\n",
       "</style>\n",
       "<table border=\"1\" class=\"dataframe\">\n",
       "  <thead>\n",
       "    <tr style=\"text-align: right;\">\n",
       "      <th></th>\n",
       "      <th>name</th>\n",
       "      <th>gp</th>\n",
       "      <th>min</th>\n",
       "      <th>pts</th>\n",
       "      <th>fgm</th>\n",
       "      <th>fga</th>\n",
       "      <th>fg</th>\n",
       "      <th>3p_made</th>\n",
       "      <th>3pa</th>\n",
       "      <th>3p</th>\n",
       "      <th>...</th>\n",
       "      <th>ft</th>\n",
       "      <th>oreb</th>\n",
       "      <th>dreb</th>\n",
       "      <th>reb</th>\n",
       "      <th>ast</th>\n",
       "      <th>stl</th>\n",
       "      <th>blk</th>\n",
       "      <th>tov</th>\n",
       "      <th>target_5yrs</th>\n",
       "      <th>Year Drafted</th>\n",
       "    </tr>\n",
       "  </thead>\n",
       "  <tbody>\n",
       "    <tr>\n",
       "      <th>0</th>\n",
       "      <td>Isaiah Whitehead</td>\n",
       "      <td>25</td>\n",
       "      <td>22.6</td>\n",
       "      <td>6.7</td>\n",
       "      <td>2.6</td>\n",
       "      <td>6.4</td>\n",
       "      <td>41.3</td>\n",
       "      <td>0.5</td>\n",
       "      <td>1.8</td>\n",
       "      <td>28.3</td>\n",
       "      <td>...</td>\n",
       "      <td>76.7</td>\n",
       "      <td>0.2</td>\n",
       "      <td>2.0</td>\n",
       "      <td>2.2</td>\n",
       "      <td>3.0</td>\n",
       "      <td>0.7</td>\n",
       "      <td>0.5</td>\n",
       "      <td>2.2</td>\n",
       "      <td>0</td>\n",
       "      <td>2016</td>\n",
       "    </tr>\n",
       "    <tr>\n",
       "      <th>1</th>\n",
       "      <td>Kris Dunn</td>\n",
       "      <td>33</td>\n",
       "      <td>16.9</td>\n",
       "      <td>4.1</td>\n",
       "      <td>1.5</td>\n",
       "      <td>4.1</td>\n",
       "      <td>37.3</td>\n",
       "      <td>0.3</td>\n",
       "      <td>0.9</td>\n",
       "      <td>29.0</td>\n",
       "      <td>...</td>\n",
       "      <td>62.5</td>\n",
       "      <td>0.4</td>\n",
       "      <td>1.9</td>\n",
       "      <td>2.2</td>\n",
       "      <td>2.4</td>\n",
       "      <td>1.0</td>\n",
       "      <td>0.3</td>\n",
       "      <td>1.2</td>\n",
       "      <td>0</td>\n",
       "      <td>2016</td>\n",
       "    </tr>\n",
       "    <tr>\n",
       "      <th>2</th>\n",
       "      <td>Rodney McGruder</td>\n",
       "      <td>30</td>\n",
       "      <td>25.7</td>\n",
       "      <td>5.8</td>\n",
       "      <td>2.1</td>\n",
       "      <td>5.3</td>\n",
       "      <td>40.0</td>\n",
       "      <td>0.8</td>\n",
       "      <td>2.6</td>\n",
       "      <td>32.5</td>\n",
       "      <td>...</td>\n",
       "      <td>72.4</td>\n",
       "      <td>1.5</td>\n",
       "      <td>2.0</td>\n",
       "      <td>3.5</td>\n",
       "      <td>1.5</td>\n",
       "      <td>0.7</td>\n",
       "      <td>0.3</td>\n",
       "      <td>0.7</td>\n",
       "      <td>0</td>\n",
       "      <td>2016</td>\n",
       "    </tr>\n",
       "    <tr>\n",
       "      <th>3</th>\n",
       "      <td>Malcolm Brogdon</td>\n",
       "      <td>32</td>\n",
       "      <td>22.9</td>\n",
       "      <td>8.3</td>\n",
       "      <td>3.2</td>\n",
       "      <td>6.9</td>\n",
       "      <td>46.2</td>\n",
       "      <td>0.9</td>\n",
       "      <td>2.1</td>\n",
       "      <td>44.1</td>\n",
       "      <td>...</td>\n",
       "      <td>85.7</td>\n",
       "      <td>0.4</td>\n",
       "      <td>2.1</td>\n",
       "      <td>2.5</td>\n",
       "      <td>3.6</td>\n",
       "      <td>1.0</td>\n",
       "      <td>0.1</td>\n",
       "      <td>1.5</td>\n",
       "      <td>0</td>\n",
       "      <td>2016</td>\n",
       "    </tr>\n",
       "    <tr>\n",
       "      <th>4</th>\n",
       "      <td>Malcolm Delaney</td>\n",
       "      <td>33</td>\n",
       "      <td>16.4</td>\n",
       "      <td>5.3</td>\n",
       "      <td>2.0</td>\n",
       "      <td>5.3</td>\n",
       "      <td>37.1</td>\n",
       "      <td>0.2</td>\n",
       "      <td>1.4</td>\n",
       "      <td>17.4</td>\n",
       "      <td>...</td>\n",
       "      <td>86.0</td>\n",
       "      <td>0.2</td>\n",
       "      <td>1.5</td>\n",
       "      <td>1.6</td>\n",
       "      <td>2.8</td>\n",
       "      <td>0.4</td>\n",
       "      <td>0.0</td>\n",
       "      <td>1.5</td>\n",
       "      <td>0</td>\n",
       "      <td>2016</td>\n",
       "    </tr>\n",
       "    <tr>\n",
       "      <th>...</th>\n",
       "      <td>...</td>\n",
       "      <td>...</td>\n",
       "      <td>...</td>\n",
       "      <td>...</td>\n",
       "      <td>...</td>\n",
       "      <td>...</td>\n",
       "      <td>...</td>\n",
       "      <td>...</td>\n",
       "      <td>...</td>\n",
       "      <td>...</td>\n",
       "      <td>...</td>\n",
       "      <td>...</td>\n",
       "      <td>...</td>\n",
       "      <td>...</td>\n",
       "      <td>...</td>\n",
       "      <td>...</td>\n",
       "      <td>...</td>\n",
       "      <td>...</td>\n",
       "      <td>...</td>\n",
       "      <td>...</td>\n",
       "      <td>...</td>\n",
       "    </tr>\n",
       "    <tr>\n",
       "      <th>1323</th>\n",
       "      <td>Larry Drew</td>\n",
       "      <td>76</td>\n",
       "      <td>20.8</td>\n",
       "      <td>6.6</td>\n",
       "      <td>2.6</td>\n",
       "      <td>6.4</td>\n",
       "      <td>40.7</td>\n",
       "      <td>0.1</td>\n",
       "      <td>0.2</td>\n",
       "      <td>23.5</td>\n",
       "      <td>...</td>\n",
       "      <td>79.7</td>\n",
       "      <td>0.3</td>\n",
       "      <td>1.3</td>\n",
       "      <td>1.6</td>\n",
       "      <td>3.3</td>\n",
       "      <td>1.2</td>\n",
       "      <td>0.1</td>\n",
       "      <td>2.2</td>\n",
       "      <td>0</td>\n",
       "      <td>1980</td>\n",
       "    </tr>\n",
       "    <tr>\n",
       "      <th>1324</th>\n",
       "      <td>John Duren</td>\n",
       "      <td>40</td>\n",
       "      <td>11.5</td>\n",
       "      <td>1.8</td>\n",
       "      <td>0.8</td>\n",
       "      <td>2.5</td>\n",
       "      <td>32.7</td>\n",
       "      <td>0.0</td>\n",
       "      <td>0.0</td>\n",
       "      <td>0.0</td>\n",
       "      <td>...</td>\n",
       "      <td>55.6</td>\n",
       "      <td>0.2</td>\n",
       "      <td>0.7</td>\n",
       "      <td>0.9</td>\n",
       "      <td>1.4</td>\n",
       "      <td>0.5</td>\n",
       "      <td>0.1</td>\n",
       "      <td>0.9</td>\n",
       "      <td>0</td>\n",
       "      <td>1980</td>\n",
       "    </tr>\n",
       "    <tr>\n",
       "      <th>1325</th>\n",
       "      <td>Larry Drew</td>\n",
       "      <td>76</td>\n",
       "      <td>20.8</td>\n",
       "      <td>6.6</td>\n",
       "      <td>2.6</td>\n",
       "      <td>6.4</td>\n",
       "      <td>40.7</td>\n",
       "      <td>0.1</td>\n",
       "      <td>0.2</td>\n",
       "      <td>23.5</td>\n",
       "      <td>...</td>\n",
       "      <td>79.7</td>\n",
       "      <td>0.3</td>\n",
       "      <td>1.3</td>\n",
       "      <td>1.6</td>\n",
       "      <td>3.3</td>\n",
       "      <td>1.2</td>\n",
       "      <td>0.1</td>\n",
       "      <td>2.2</td>\n",
       "      <td>1</td>\n",
       "      <td>1980</td>\n",
       "    </tr>\n",
       "    <tr>\n",
       "      <th>1326</th>\n",
       "      <td>Kyle Macy</td>\n",
       "      <td>82</td>\n",
       "      <td>17.9</td>\n",
       "      <td>8.1</td>\n",
       "      <td>3.3</td>\n",
       "      <td>6.5</td>\n",
       "      <td>51.1</td>\n",
       "      <td>0.1</td>\n",
       "      <td>0.6</td>\n",
       "      <td>23.5</td>\n",
       "      <td>...</td>\n",
       "      <td>89.9</td>\n",
       "      <td>0.5</td>\n",
       "      <td>1.1</td>\n",
       "      <td>1.6</td>\n",
       "      <td>2.0</td>\n",
       "      <td>0.9</td>\n",
       "      <td>0.1</td>\n",
       "      <td>1.2</td>\n",
       "      <td>1</td>\n",
       "      <td>1980</td>\n",
       "    </tr>\n",
       "    <tr>\n",
       "      <th>1327</th>\n",
       "      <td>Joe Barry Carroll</td>\n",
       "      <td>82</td>\n",
       "      <td>35.6</td>\n",
       "      <td>18.9</td>\n",
       "      <td>7.5</td>\n",
       "      <td>15.3</td>\n",
       "      <td>49.1</td>\n",
       "      <td>0.0</td>\n",
       "      <td>0.0</td>\n",
       "      <td>0.0</td>\n",
       "      <td>...</td>\n",
       "      <td>71.6</td>\n",
       "      <td>3.3</td>\n",
       "      <td>5.9</td>\n",
       "      <td>9.3</td>\n",
       "      <td>1.4</td>\n",
       "      <td>0.6</td>\n",
       "      <td>1.5</td>\n",
       "      <td>3.0</td>\n",
       "      <td>1</td>\n",
       "      <td>1980</td>\n",
       "    </tr>\n",
       "  </tbody>\n",
       "</table>\n",
       "<p>1328 rows × 22 columns</p>\n",
       "</div>"
      ],
      "text/plain": [
       "                   name  gp   min   pts  fgm   fga    fg  3p_made  3pa    3p  \\\n",
       "0      Isaiah Whitehead  25  22.6   6.7  2.6   6.4  41.3      0.5  1.8  28.3   \n",
       "1             Kris Dunn  33  16.9   4.1  1.5   4.1  37.3      0.3  0.9  29.0   \n",
       "2       Rodney McGruder  30  25.7   5.8  2.1   5.3  40.0      0.8  2.6  32.5   \n",
       "3       Malcolm Brogdon  32  22.9   8.3  3.2   6.9  46.2      0.9  2.1  44.1   \n",
       "4       Malcolm Delaney  33  16.4   5.3  2.0   5.3  37.1      0.2  1.4  17.4   \n",
       "...                 ...  ..   ...   ...  ...   ...   ...      ...  ...   ...   \n",
       "1323         Larry Drew  76  20.8   6.6  2.6   6.4  40.7      0.1  0.2  23.5   \n",
       "1324         John Duren  40  11.5   1.8  0.8   2.5  32.7      0.0  0.0   0.0   \n",
       "1325         Larry Drew  76  20.8   6.6  2.6   6.4  40.7      0.1  0.2  23.5   \n",
       "1326          Kyle Macy  82  17.9   8.1  3.3   6.5  51.1      0.1  0.6  23.5   \n",
       "1327  Joe Barry Carroll  82  35.6  18.9  7.5  15.3  49.1      0.0  0.0   0.0   \n",
       "\n",
       "      ...    ft  oreb  dreb  reb  ast  stl  blk  tov  target_5yrs  \\\n",
       "0     ...  76.7   0.2   2.0  2.2  3.0  0.7  0.5  2.2            0   \n",
       "1     ...  62.5   0.4   1.9  2.2  2.4  1.0  0.3  1.2            0   \n",
       "2     ...  72.4   1.5   2.0  3.5  1.5  0.7  0.3  0.7            0   \n",
       "3     ...  85.7   0.4   2.1  2.5  3.6  1.0  0.1  1.5            0   \n",
       "4     ...  86.0   0.2   1.5  1.6  2.8  0.4  0.0  1.5            0   \n",
       "...   ...   ...   ...   ...  ...  ...  ...  ...  ...          ...   \n",
       "1323  ...  79.7   0.3   1.3  1.6  3.3  1.2  0.1  2.2            0   \n",
       "1324  ...  55.6   0.2   0.7  0.9  1.4  0.5  0.1  0.9            0   \n",
       "1325  ...  79.7   0.3   1.3  1.6  3.3  1.2  0.1  2.2            1   \n",
       "1326  ...  89.9   0.5   1.1  1.6  2.0  0.9  0.1  1.2            1   \n",
       "1327  ...  71.6   3.3   5.9  9.3  1.4  0.6  1.5  3.0            1   \n",
       "\n",
       "      Year Drafted  \n",
       "0             2016  \n",
       "1             2016  \n",
       "2             2016  \n",
       "3             2016  \n",
       "4             2016  \n",
       "...            ...  \n",
       "1323          1980  \n",
       "1324          1980  \n",
       "1325          1980  \n",
       "1326          1980  \n",
       "1327          1980  \n",
       "\n",
       "[1328 rows x 22 columns]"
      ]
     },
     "execution_count": 49,
     "metadata": {},
     "output_type": "execute_result"
    }
   ],
   "source": [
    "df2 = pd.read_csv('Dataset/nba.csv', index_col=0)\n",
    "df2"
   ]
  },
  {
   "cell_type": "code",
   "execution_count": 50,
   "id": "8309ec7a",
   "metadata": {},
   "outputs": [
    {
     "data": {
      "text/html": [
       "<div>\n",
       "<style scoped>\n",
       "    .dataframe tbody tr th:only-of-type {\n",
       "        vertical-align: middle;\n",
       "    }\n",
       "\n",
       "    .dataframe tbody tr th {\n",
       "        vertical-align: top;\n",
       "    }\n",
       "\n",
       "    .dataframe thead th {\n",
       "        text-align: right;\n",
       "    }\n",
       "</style>\n",
       "<table border=\"1\" class=\"dataframe\">\n",
       "  <thead>\n",
       "    <tr style=\"text-align: right;\">\n",
       "      <th></th>\n",
       "      <th>gp</th>\n",
       "      <th>min</th>\n",
       "      <th>pts</th>\n",
       "      <th>fg</th>\n",
       "      <th>3p</th>\n",
       "      <th>ft</th>\n",
       "      <th>reb</th>\n",
       "      <th>ast</th>\n",
       "      <th>stl</th>\n",
       "      <th>blk</th>\n",
       "      <th>tov</th>\n",
       "      <th>target_5yrs</th>\n",
       "    </tr>\n",
       "  </thead>\n",
       "  <tbody>\n",
       "    <tr>\n",
       "      <th>0</th>\n",
       "      <td>25</td>\n",
       "      <td>22.6</td>\n",
       "      <td>6.7</td>\n",
       "      <td>41.3</td>\n",
       "      <td>28.3</td>\n",
       "      <td>76.7</td>\n",
       "      <td>2.2</td>\n",
       "      <td>3.0</td>\n",
       "      <td>0.7</td>\n",
       "      <td>0.5</td>\n",
       "      <td>2.2</td>\n",
       "      <td>0</td>\n",
       "    </tr>\n",
       "    <tr>\n",
       "      <th>1</th>\n",
       "      <td>33</td>\n",
       "      <td>16.9</td>\n",
       "      <td>4.1</td>\n",
       "      <td>37.3</td>\n",
       "      <td>29.0</td>\n",
       "      <td>62.5</td>\n",
       "      <td>2.2</td>\n",
       "      <td>2.4</td>\n",
       "      <td>1.0</td>\n",
       "      <td>0.3</td>\n",
       "      <td>1.2</td>\n",
       "      <td>0</td>\n",
       "    </tr>\n",
       "    <tr>\n",
       "      <th>2</th>\n",
       "      <td>30</td>\n",
       "      <td>25.7</td>\n",
       "      <td>5.8</td>\n",
       "      <td>40.0</td>\n",
       "      <td>32.5</td>\n",
       "      <td>72.4</td>\n",
       "      <td>3.5</td>\n",
       "      <td>1.5</td>\n",
       "      <td>0.7</td>\n",
       "      <td>0.3</td>\n",
       "      <td>0.7</td>\n",
       "      <td>0</td>\n",
       "    </tr>\n",
       "    <tr>\n",
       "      <th>3</th>\n",
       "      <td>32</td>\n",
       "      <td>22.9</td>\n",
       "      <td>8.3</td>\n",
       "      <td>46.2</td>\n",
       "      <td>44.1</td>\n",
       "      <td>85.7</td>\n",
       "      <td>2.5</td>\n",
       "      <td>3.6</td>\n",
       "      <td>1.0</td>\n",
       "      <td>0.1</td>\n",
       "      <td>1.5</td>\n",
       "      <td>0</td>\n",
       "    </tr>\n",
       "    <tr>\n",
       "      <th>4</th>\n",
       "      <td>33</td>\n",
       "      <td>16.4</td>\n",
       "      <td>5.3</td>\n",
       "      <td>37.1</td>\n",
       "      <td>17.4</td>\n",
       "      <td>86.0</td>\n",
       "      <td>1.6</td>\n",
       "      <td>2.8</td>\n",
       "      <td>0.4</td>\n",
       "      <td>0.0</td>\n",
       "      <td>1.5</td>\n",
       "      <td>0</td>\n",
       "    </tr>\n",
       "    <tr>\n",
       "      <th>...</th>\n",
       "      <td>...</td>\n",
       "      <td>...</td>\n",
       "      <td>...</td>\n",
       "      <td>...</td>\n",
       "      <td>...</td>\n",
       "      <td>...</td>\n",
       "      <td>...</td>\n",
       "      <td>...</td>\n",
       "      <td>...</td>\n",
       "      <td>...</td>\n",
       "      <td>...</td>\n",
       "      <td>...</td>\n",
       "    </tr>\n",
       "    <tr>\n",
       "      <th>1323</th>\n",
       "      <td>76</td>\n",
       "      <td>20.8</td>\n",
       "      <td>6.6</td>\n",
       "      <td>40.7</td>\n",
       "      <td>23.5</td>\n",
       "      <td>79.7</td>\n",
       "      <td>1.6</td>\n",
       "      <td>3.3</td>\n",
       "      <td>1.2</td>\n",
       "      <td>0.1</td>\n",
       "      <td>2.2</td>\n",
       "      <td>0</td>\n",
       "    </tr>\n",
       "    <tr>\n",
       "      <th>1324</th>\n",
       "      <td>40</td>\n",
       "      <td>11.5</td>\n",
       "      <td>1.8</td>\n",
       "      <td>32.7</td>\n",
       "      <td>0.0</td>\n",
       "      <td>55.6</td>\n",
       "      <td>0.9</td>\n",
       "      <td>1.4</td>\n",
       "      <td>0.5</td>\n",
       "      <td>0.1</td>\n",
       "      <td>0.9</td>\n",
       "      <td>0</td>\n",
       "    </tr>\n",
       "    <tr>\n",
       "      <th>1325</th>\n",
       "      <td>76</td>\n",
       "      <td>20.8</td>\n",
       "      <td>6.6</td>\n",
       "      <td>40.7</td>\n",
       "      <td>23.5</td>\n",
       "      <td>79.7</td>\n",
       "      <td>1.6</td>\n",
       "      <td>3.3</td>\n",
       "      <td>1.2</td>\n",
       "      <td>0.1</td>\n",
       "      <td>2.2</td>\n",
       "      <td>1</td>\n",
       "    </tr>\n",
       "    <tr>\n",
       "      <th>1326</th>\n",
       "      <td>82</td>\n",
       "      <td>17.9</td>\n",
       "      <td>8.1</td>\n",
       "      <td>51.1</td>\n",
       "      <td>23.5</td>\n",
       "      <td>89.9</td>\n",
       "      <td>1.6</td>\n",
       "      <td>2.0</td>\n",
       "      <td>0.9</td>\n",
       "      <td>0.1</td>\n",
       "      <td>1.2</td>\n",
       "      <td>1</td>\n",
       "    </tr>\n",
       "    <tr>\n",
       "      <th>1327</th>\n",
       "      <td>82</td>\n",
       "      <td>35.6</td>\n",
       "      <td>18.9</td>\n",
       "      <td>49.1</td>\n",
       "      <td>0.0</td>\n",
       "      <td>71.6</td>\n",
       "      <td>9.3</td>\n",
       "      <td>1.4</td>\n",
       "      <td>0.6</td>\n",
       "      <td>1.5</td>\n",
       "      <td>3.0</td>\n",
       "      <td>1</td>\n",
       "    </tr>\n",
       "  </tbody>\n",
       "</table>\n",
       "<p>1328 rows × 12 columns</p>\n",
       "</div>"
      ],
      "text/plain": [
       "      gp   min   pts    fg    3p    ft  reb  ast  stl  blk  tov  target_5yrs\n",
       "0     25  22.6   6.7  41.3  28.3  76.7  2.2  3.0  0.7  0.5  2.2            0\n",
       "1     33  16.9   4.1  37.3  29.0  62.5  2.2  2.4  1.0  0.3  1.2            0\n",
       "2     30  25.7   5.8  40.0  32.5  72.4  3.5  1.5  0.7  0.3  0.7            0\n",
       "3     32  22.9   8.3  46.2  44.1  85.7  2.5  3.6  1.0  0.1  1.5            0\n",
       "4     33  16.4   5.3  37.1  17.4  86.0  1.6  2.8  0.4  0.0  1.5            0\n",
       "...   ..   ...   ...   ...   ...   ...  ...  ...  ...  ...  ...          ...\n",
       "1323  76  20.8   6.6  40.7  23.5  79.7  1.6  3.3  1.2  0.1  2.2            0\n",
       "1324  40  11.5   1.8  32.7   0.0  55.6  0.9  1.4  0.5  0.1  0.9            0\n",
       "1325  76  20.8   6.6  40.7  23.5  79.7  1.6  3.3  1.2  0.1  2.2            1\n",
       "1326  82  17.9   8.1  51.1  23.5  89.9  1.6  2.0  0.9  0.1  1.2            1\n",
       "1327  82  35.6  18.9  49.1   0.0  71.6  9.3  1.4  0.6  1.5  3.0            1\n",
       "\n",
       "[1328 rows x 12 columns]"
      ]
     },
     "execution_count": 50,
     "metadata": {},
     "output_type": "execute_result"
    }
   ],
   "source": [
    "df2 = df2.drop(['name','fgm','fga','3p_made','3pa','ftm','fta','oreb','dreb','Year Drafted'], axis=1)\n",
    "df2"
   ]
  },
  {
   "cell_type": "markdown",
   "id": "5a5d1dfd",
   "metadata": {},
   "source": [
    "## Train | Test Split (all features)"
   ]
  },
  {
   "cell_type": "code",
   "execution_count": 51,
   "id": "8fa8b940",
   "metadata": {},
   "outputs": [],
   "source": [
    "# split into X and y\n",
    "X = df2.drop('target_5yrs',axis=1)\n",
    "y = df2['target_5yrs']"
   ]
  },
  {
   "cell_type": "code",
   "execution_count": 52,
   "id": "7d1e5122",
   "metadata": {},
   "outputs": [],
   "source": [
    "# first, split into training and testing data\n",
    "X_train, X_test, y_train, y_test = train_test_split(X, y, test_size=0.2, random_state=1)\n",
    "\n",
    "# splitting the training data into training and validation data\n",
    "X_train, X_val, y_train, y_val = train_test_split(X_train, y_train, test_size=0.25, random_state=1)"
   ]
  },
  {
   "cell_type": "code",
   "execution_count": 53,
   "id": "c3550ce1",
   "metadata": {},
   "outputs": [],
   "source": [
    "scaler = StandardScaler()\n",
    "\n",
    "scaled_X_train = scaler.fit_transform(X_train)\n",
    "scaled_X_val = scaler.transform(X_val)\n",
    "scaled_X_test = scaler.transform(X_test)"
   ]
  },
  {
   "cell_type": "code",
   "execution_count": 54,
   "id": "9a712f04",
   "metadata": {},
   "outputs": [],
   "source": [
    "from sklearn.linear_model import LogisticRegressionCV\n",
    "log_model_cv = LogisticRegressionCV()"
   ]
  },
  {
   "cell_type": "code",
   "execution_count": 55,
   "id": "5c7a53cb",
   "metadata": {},
   "outputs": [
    {
     "data": {
      "text/plain": [
       "LogisticRegressionCV()"
      ]
     },
     "execution_count": 55,
     "metadata": {},
     "output_type": "execute_result"
    }
   ],
   "source": [
    "log_model_cv.fit(scaled_X_train, y_train)"
   ]
  },
  {
   "cell_type": "code",
   "execution_count": 56,
   "id": "f3d07f39",
   "metadata": {},
   "outputs": [
    {
     "data": {
      "text/plain": [
       "array([1.00000000e-04, 7.74263683e-04, 5.99484250e-03, 4.64158883e-02,\n",
       "       3.59381366e-01, 2.78255940e+00, 2.15443469e+01, 1.66810054e+02,\n",
       "       1.29154967e+03, 1.00000000e+04])"
      ]
     },
     "execution_count": 56,
     "metadata": {},
     "output_type": "execute_result"
    }
   ],
   "source": [
    "# check out the C values\n",
    "log_model_cv.Cs_"
   ]
  },
  {
   "cell_type": "code",
   "execution_count": 57,
   "id": "57b4087b",
   "metadata": {},
   "outputs": [
    {
     "data": {
      "text/plain": [
       "array([2.7825594])"
      ]
     },
     "execution_count": 57,
     "metadata": {},
     "output_type": "execute_result"
    }
   ],
   "source": [
    "# which C value is best\n",
    "log_model_cv.C_"
   ]
  },
  {
   "cell_type": "code",
   "execution_count": 58,
   "id": "4ea63e90",
   "metadata": {},
   "outputs": [
    {
     "data": {
      "text/plain": [
       "{'Cs': 10,\n",
       " 'class_weight': None,\n",
       " 'cv': None,\n",
       " 'dual': False,\n",
       " 'fit_intercept': True,\n",
       " 'intercept_scaling': 1.0,\n",
       " 'l1_ratios': None,\n",
       " 'max_iter': 100,\n",
       " 'multi_class': 'auto',\n",
       " 'n_jobs': None,\n",
       " 'penalty': 'l2',\n",
       " 'random_state': None,\n",
       " 'refit': True,\n",
       " 'scoring': None,\n",
       " 'solver': 'lbfgs',\n",
       " 'tol': 0.0001,\n",
       " 'verbose': 0}"
      ]
     },
     "execution_count": 58,
     "metadata": {},
     "output_type": "execute_result"
    }
   ],
   "source": [
    "log_model_cv.get_params()"
   ]
  },
  {
   "cell_type": "code",
   "execution_count": 59,
   "id": "2fb843f8",
   "metadata": {},
   "outputs": [
    {
     "data": {
      "text/plain": [
       "array([[ 0.69355501, -0.72911208,  0.44883014,  0.10237259,  0.01749649,\n",
       "         0.24027154,  0.66948978,  0.39313393,  0.03754129,  0.12012274,\n",
       "        -0.23132283]])"
      ]
     },
     "execution_count": 59,
     "metadata": {},
     "output_type": "execute_result"
    }
   ],
   "source": [
    "log_model_cv.coef_"
   ]
  },
  {
   "cell_type": "markdown",
   "id": "2cf1fcf2",
   "metadata": {},
   "source": [
    "### Feature Importances"
   ]
  },
  {
   "cell_type": "code",
   "execution_count": 60,
   "id": "60e4f41c",
   "metadata": {},
   "outputs": [
    {
     "data": {
      "text/plain": [
       "gp     0.693555\n",
       "min   -0.729112\n",
       "pts    0.448830\n",
       "fg     0.102373\n",
       "3p     0.017496\n",
       "ft     0.240272\n",
       "reb    0.669490\n",
       "ast    0.393134\n",
       "stl    0.037541\n",
       "blk    0.120123\n",
       "tov   -0.231323\n",
       "dtype: float64"
      ]
     },
     "execution_count": 60,
     "metadata": {},
     "output_type": "execute_result"
    }
   ],
   "source": [
    "log_model_cv_coefs = pd.Series(index=X_train.columns, data=log_model_cv.coef_[0])\n",
    "log_model_cv_coefs"
   ]
  },
  {
   "cell_type": "code",
   "execution_count": 61,
   "id": "813e8624",
   "metadata": {},
   "outputs": [
    {
     "data": {
      "text/plain": [
       "<AxesSubplot:>"
      ]
     },
     "execution_count": 61,
     "metadata": {},
     "output_type": "execute_result"
    },
    {
     "data": {
      "image/png": "[encoded data removed]",
      "text/plain": [
       "<Figure size 720x432 with 1 Axes>"
      ]
     },
     "metadata": {
      "needs_background": "light"
     },
     "output_type": "display_data"
    }
   ],
   "source": [
    "plt.figure(figsize=(10,6))\n",
    "log_model_cv_coefs = log_model_cv_coefs.sort_values()\n",
    "sns.barplot(x=log_model_cv_coefs.index, y=log_model_cv_coefs.values)"
   ]
  },
  {
   "cell_type": "markdown",
   "id": "0dde966a",
   "metadata": {},
   "source": [
    "### Evaluation Metrics"
   ]
  },
  {
   "cell_type": "code",
   "execution_count": 62,
   "id": "be36a776",
   "metadata": {},
   "outputs": [],
   "source": [
    "y_pred_cv = log_model_cv.predict(scaled_X_val)"
   ]
  },
  {
   "cell_type": "code",
   "execution_count": 63,
   "id": "c5b92e24",
   "metadata": {},
   "outputs": [
    {
     "data": {
      "text/plain": [
       "<sklearn.metrics._plot.confusion_matrix.ConfusionMatrixDisplay at 0x7fa587f01c10>"
      ]
     },
     "execution_count": 63,
     "metadata": {},
     "output_type": "execute_result"
    },
    {
     "data": {
      "image/png": "[encoded data removed]",
      "text/plain": [
       "<Figure size 432x288 with 2 Axes>"
      ]
     },
     "metadata": {
      "needs_background": "light"
     },
     "output_type": "display_data"
    }
   ],
   "source": [
    "plot_confusion_matrix(log_model_cv, scaled_X_val, y_val)"
   ]
  },
  {
   "cell_type": "code",
   "execution_count": 64,
   "id": "c95ac55a",
   "metadata": {},
   "outputs": [
    {
     "name": "stdout",
     "output_type": "stream",
     "text": [
      "              precision    recall  f1-score   support\n",
      "\n",
      "           0       0.61      0.50      0.55       102\n",
      "           1       0.72      0.80      0.76       164\n",
      "\n",
      "    accuracy                           0.68       266\n",
      "   macro avg       0.66      0.65      0.65       266\n",
      "weighted avg       0.68      0.68      0.68       266\n",
      "\n"
     ]
    }
   ],
   "source": [
    "print(classification_report(y_val, y_pred_cv))"
   ]
  },
  {
   "cell_type": "markdown",
   "id": "ae398a66",
   "metadata": {},
   "source": [
    "# Model 4 - K-Nearest Neighbors"
   ]
  },
  {
   "cell_type": "markdown",
   "id": "d7d828bf",
   "metadata": {},
   "source": [
    "## Using Pipeline object"
   ]
  },
  {
   "cell_type": "code",
   "execution_count": 65,
   "id": "a538b398",
   "metadata": {},
   "outputs": [],
   "source": [
    "# import KNN\n",
    "from sklearn.neighbors import KNeighborsClassifier\n",
    "\n",
    "# scaler object\n",
    "scaler = StandardScaler()\n",
    "knn = KNeighborsClassifier()\n",
    "\n",
    "# operations\n",
    "operations = [('scaler', scaler), ('knn', knn)]\n",
    "\n",
    "# import pipeline object\n",
    "from sklearn.pipeline import Pipeline\n",
    "pipe = Pipeline(operations)\n",
    "\n",
    "# grid search CV\n",
    "from sklearn.model_selection import GridSearchCV"
   ]
  },
  {
   "cell_type": "code",
   "execution_count": 66,
   "id": "027fa28f",
   "metadata": {},
   "outputs": [
    {
     "data": {
      "text/plain": [
       "dict_keys(['algorithm', 'leaf_size', 'metric', 'metric_params', 'n_jobs', 'n_neighbors', 'p', 'weights'])"
      ]
     },
     "execution_count": 66,
     "metadata": {},
     "output_type": "execute_result"
    }
   ],
   "source": [
    "knn.get_params().keys()"
   ]
  },
  {
   "cell_type": "markdown",
   "id": "339f913a",
   "metadata": {},
   "source": [
    "### Using Grid Search with the pipeline to test different values of K and reporting back the best performing parameters"
   ]
  },
  {
   "cell_type": "code",
   "execution_count": 67,
   "id": "20fdd365",
   "metadata": {},
   "outputs": [],
   "source": [
    "\n",
    "# k values\n",
    "k_values = list(range(1,35))\n",
    "\n",
    "# parameter grid\n",
    "param_grid = {'knn__n_neighbors': k_values}\n",
    "\n",
    "# full classifer\n",
    "full_cv_classifier = GridSearchCV(pipe, param_grid, cv=5, scoring='accuracy')"
   ]
  },
  {
   "cell_type": "code",
   "execution_count": 68,
   "id": "3529fb6e",
   "metadata": {},
   "outputs": [
    {
     "data": {
      "text/plain": [
       "GridSearchCV(cv=5,\n",
       "             estimator=Pipeline(steps=[('scaler', StandardScaler()),\n",
       "                                       ('knn', KNeighborsClassifier())]),\n",
       "             param_grid={'knn__n_neighbors': [1, 2, 3, 4, 5, 6, 7, 8, 9, 10, 11,\n",
       "                                              12, 13, 14, 15, 16, 17, 18, 19,\n",
       "                                              20, 21, 22, 23, 24, 25, 26, 27,\n",
       "                                              28, 29, 30, ...]},\n",
       "             scoring='accuracy')"
      ]
     },
     "execution_count": 68,
     "metadata": {},
     "output_type": "execute_result"
    }
   ],
   "source": [
    "full_cv_classifier.fit(X_train,y_train)"
   ]
  },
  {
   "cell_type": "code",
   "execution_count": 69,
   "id": "80aa56c9",
   "metadata": {},
   "outputs": [
    {
     "data": {
      "text/plain": [
       "{'memory': None,\n",
       " 'steps': [('scaler', StandardScaler()),\n",
       "  ('knn', KNeighborsClassifier(n_neighbors=19))],\n",
       " 'verbose': False,\n",
       " 'scaler': StandardScaler(),\n",
       " 'knn': KNeighborsClassifier(n_neighbors=19),\n",
       " 'scaler__copy': True,\n",
       " 'scaler__with_mean': True,\n",
       " 'scaler__with_std': True,\n",
       " 'knn__algorithm': 'auto',\n",
       " 'knn__leaf_size': 30,\n",
       " 'knn__metric': 'minkowski',\n",
       " 'knn__metric_params': None,\n",
       " 'knn__n_jobs': None,\n",
       " 'knn__n_neighbors': 19,\n",
       " 'knn__p': 2,\n",
       " 'knn__weights': 'uniform'}"
      ]
     },
     "execution_count": 69,
     "metadata": {},
     "output_type": "execute_result"
    }
   ],
   "source": [
    "full_cv_classifier.best_estimator_.get_params()"
   ]
  },
  {
   "cell_type": "code",
   "execution_count": 70,
   "id": "bf5fb3ac",
   "metadata": {},
   "outputs": [
    {
     "data": {
      "text/plain": [
       "Text(0, 0.5, 'Accuracy')"
      ]
     },
     "execution_count": 70,
     "metadata": {},
     "output_type": "execute_result"
    },
    {
     "data": {
      "image/png": "[encoded data removed]",
      "text/plain": [
       "<Figure size 432x288 with 1 Axes>"
      ]
     },
     "metadata": {
      "needs_background": "light"
     },
     "output_type": "display_data"
    }
   ],
   "source": [
    "# plot for mean test scores per each K value\n",
    "# full_cv_classifier.cv_results_['mean_test_score']\n",
    "\n",
    "scores = full_cv_classifier.cv_results_['mean_test_score']\n",
    "plt.plot(k_values,scores,'o-')\n",
    "plt.xlabel(\"K\")\n",
    "plt.ylabel(\"Accuracy\")"
   ]
  },
  {
   "cell_type": "markdown",
   "id": "25aded2e",
   "metadata": {},
   "source": [
    "### KNN Model Evaluation"
   ]
  },
  {
   "cell_type": "code",
   "execution_count": 71,
   "id": "3c580f7f",
   "metadata": {},
   "outputs": [],
   "source": [
    "def model_predictions(model, X_val=scaled_X_val):\n",
    "    predictions = model.predict(X_val)\n",
    "    return predictions"
   ]
  },
  {
   "cell_type": "code",
   "execution_count": 72,
   "id": "694486fb",
   "metadata": {},
   "outputs": [
    {
     "data": {
      "text/plain": [
       "KNeighborsClassifier(n_neighbors=21)"
      ]
     },
     "execution_count": 72,
     "metadata": {},
     "output_type": "execute_result"
    }
   ],
   "source": [
    "knn_21 = KNeighborsClassifier(n_neighbors=21)\n",
    "knn_21.fit(scaled_X_train, y_train)"
   ]
  },
  {
   "cell_type": "code",
   "execution_count": 73,
   "id": "feadac9f",
   "metadata": {},
   "outputs": [
    {
     "data": {
      "text/plain": [
       "array([0, 1, 0, 1, 1, 1, 0, 0, 1, 0, 1, 1, 1, 1, 1, 1, 0, 1, 1, 0, 1, 0,\n",
       "       1, 0, 0, 1, 1, 1, 1, 0, 1, 1, 1, 1, 1, 1, 1, 1, 0, 1, 1, 1, 1, 1,\n",
       "       0, 1, 0, 0, 0, 1, 0, 1, 0, 1, 1, 1, 1, 1, 0, 1, 1, 1, 1, 1, 0, 0,\n",
       "       0, 0, 1, 0, 1, 0, 0, 1, 1, 1, 1, 1, 1, 1, 0, 0, 1, 0, 1, 1, 1, 0,\n",
       "       1, 0, 0, 1, 0, 1, 1, 1, 1, 1, 1, 1, 1, 0, 0, 0, 0, 0, 1, 1, 1, 1,\n",
       "       0, 1, 1, 0, 0, 1, 1, 0, 0, 1, 1, 1, 1, 1, 0, 1, 0, 1, 1, 1, 1, 1,\n",
       "       1, 0, 1, 1, 1, 1, 1, 1, 1, 1, 0, 1, 0, 1, 0, 1, 0, 1, 1, 0, 1, 0,\n",
       "       1, 1, 0, 0, 1, 1, 0, 1, 1, 1, 1, 1, 0, 1, 0, 1, 1, 1, 1, 0, 0, 1,\n",
       "       1, 0, 1, 1, 1, 1, 1, 1, 1, 1, 1, 1, 1, 1, 1, 1, 1, 1, 0, 0, 1, 1,\n",
       "       1, 1, 0, 1, 1, 0, 0, 1, 1, 1, 0, 1, 0, 1, 1, 1, 1, 0, 1, 1, 1, 0,\n",
       "       0, 1, 1, 0, 0, 0, 1, 0, 1, 0, 1, 1, 1, 1, 1, 1, 0, 1, 1, 1, 1, 1,\n",
       "       1, 1, 1, 1, 1, 1, 1, 1, 0, 0, 0, 1, 1, 0, 1, 0, 1, 1, 0, 1, 1, 0,\n",
       "       0, 1])"
      ]
     },
     "execution_count": 73,
     "metadata": {},
     "output_type": "execute_result"
    }
   ],
   "source": [
    "model_predictions(knn_21, scaled_X_val)"
   ]
  },
  {
   "cell_type": "code",
   "execution_count": 74,
   "id": "5afe269f",
   "metadata": {},
   "outputs": [
    {
     "data": {
      "text/plain": [
       "<sklearn.metrics._plot.confusion_matrix.ConfusionMatrixDisplay at 0x7fa587823310>"
      ]
     },
     "execution_count": 74,
     "metadata": {},
     "output_type": "execute_result"
    },
    {
     "data": {
      "image/png": "[encoded data removed]",
      "text/plain": [
       "<Figure size 432x288 with 2 Axes>"
      ]
     },
     "metadata": {
      "needs_background": "light"
     },
     "output_type": "display_data"
    }
   ],
   "source": [
    "plot_confusion_matrix(knn_21, scaled_X_val, y_val)"
   ]
  },
  {
   "cell_type": "code",
   "execution_count": 75,
   "id": "3fc86a02",
   "metadata": {},
   "outputs": [
    {
     "name": "stdout",
     "output_type": "stream",
     "text": [
      "              precision    recall  f1-score   support\n",
      "\n",
      "           0       0.58      0.48      0.53       102\n",
      "           1       0.71      0.79      0.75       164\n",
      "\n",
      "    accuracy                           0.67       266\n",
      "   macro avg       0.65      0.63      0.64       266\n",
      "weighted avg       0.66      0.67      0.66       266\n",
      "\n"
     ]
    }
   ],
   "source": [
    "print(classification_report(y_val, model_predictions(knn_21, scaled_X_val)))"
   ]
  },
  {
   "cell_type": "code",
   "execution_count": 76,
   "id": "ebcae3aa",
   "metadata": {},
   "outputs": [
    {
     "data": {
      "text/plain": [
       "<sklearn.metrics._plot.precision_recall_curve.PrecisionRecallDisplay at 0x7fa587833430>"
      ]
     },
     "execution_count": 76,
     "metadata": {},
     "output_type": "execute_result"
    },
    {
     "data": {
      "image/png": "[encoded data removed]",
      "text/plain": [
       "<Figure size 432x288 with 1 Axes>"
      ]
     },
     "metadata": {
      "needs_background": "light"
     },
     "output_type": "display_data"
    }
   ],
   "source": [
    "plot_precision_recall_curve(knn_21, scaled_X_val, y_val )"
   ]
  },
  {
   "cell_type": "code",
   "execution_count": 77,
   "id": "c9eb1f2c",
   "metadata": {},
   "outputs": [
    {
     "data": {
      "text/plain": [
       "<sklearn.metrics._plot.roc_curve.RocCurveDisplay at 0x7fa587a30b50>"
      ]
     },
     "execution_count": 77,
     "metadata": {},
     "output_type": "execute_result"
    },
    {
     "data": {
      "image/png": "[encoded data removed]",
      "text/plain": [
       "<Figure size 432x288 with 1 Axes>"
      ]
     },
     "metadata": {
      "needs_background": "light"
     },
     "output_type": "display_data"
    }
   ],
   "source": [
    "plot_roc_curve(knn_21,scaled_X_val,y_val)"
   ]
  },
  {
   "cell_type": "markdown",
   "id": "d1d8d367",
   "metadata": {},
   "source": [
    "# Model 6 - Support Vector Machines (SVM)"
   ]
  },
  {
   "cell_type": "code",
   "execution_count": 78,
   "id": "06d0fee8",
   "metadata": {},
   "outputs": [],
   "source": [
    "# SVC instance\n",
    "from sklearn.svm import SVC\n",
    "\n",
    "# using class_weight = 'balanced' because our target class is imbalanced\n",
    "svc = SVC(class_weight='balanced')"
   ]
  },
  {
   "cell_type": "code",
   "execution_count": 79,
   "id": "f932ef2b",
   "metadata": {},
   "outputs": [],
   "source": [
    "# use grid search to find the best parameters for SVC\n",
    "param_grid_svc = {'C':[0.001,0.01,0.1,0.5,1],'gamma':['scale','auto']}"
   ]
  },
  {
   "cell_type": "code",
   "execution_count": 80,
   "id": "8b15e7f7",
   "metadata": {},
   "outputs": [],
   "source": [
    "# grid instance\n",
    "svc_grid = GridSearchCV(svc, param_grid_svc)"
   ]
  },
  {
   "cell_type": "code",
   "execution_count": 81,
   "id": "34189aca",
   "metadata": {},
   "outputs": [
    {
     "data": {
      "text/plain": [
       "GridSearchCV(estimator=SVC(class_weight='balanced'),\n",
       "             param_grid={'C': [0.001, 0.01, 0.1, 0.5, 1],\n",
       "                         'gamma': ['scale', 'auto']})"
      ]
     },
     "execution_count": 81,
     "metadata": {},
     "output_type": "execute_result"
    }
   ],
   "source": [
    "svc_grid.fit(scaled_X_train, y_train)"
   ]
  },
  {
   "cell_type": "code",
   "execution_count": 82,
   "id": "e072cc16",
   "metadata": {},
   "outputs": [
    {
     "data": {
      "text/plain": [
       "{'C': 1, 'gamma': 'auto'}"
      ]
     },
     "execution_count": 82,
     "metadata": {},
     "output_type": "execute_result"
    }
   ],
   "source": [
    "svc_grid.best_params_"
   ]
  },
  {
   "cell_type": "markdown",
   "id": "c21f038c",
   "metadata": {},
   "source": [
    "### Performance Metrics - SVC"
   ]
  },
  {
   "cell_type": "code",
   "execution_count": 83,
   "id": "7db9b355",
   "metadata": {},
   "outputs": [],
   "source": [
    "svc_preds = model_predictions(svc_grid, scaled_X_val)"
   ]
  },
  {
   "cell_type": "code",
   "execution_count": 84,
   "id": "ee271702",
   "metadata": {},
   "outputs": [
    {
     "data": {
      "text/plain": [
       "<sklearn.metrics._plot.confusion_matrix.ConfusionMatrixDisplay at 0x7fa587d0dc10>"
      ]
     },
     "execution_count": 84,
     "metadata": {},
     "output_type": "execute_result"
    },
    {
     "data": {
      "image/png": "[encoded data removed]",
      "text/plain": [
       "<Figure size 432x288 with 2 Axes>"
      ]
     },
     "metadata": {
      "needs_background": "light"
     },
     "output_type": "display_data"
    }
   ],
   "source": [
    "plot_confusion_matrix(svc_grid, scaled_X_val, y_val)"
   ]
  },
  {
   "cell_type": "code",
   "execution_count": 85,
   "id": "270467bf",
   "metadata": {},
   "outputs": [
    {
     "name": "stdout",
     "output_type": "stream",
     "text": [
      "              precision    recall  f1-score   support\n",
      "\n",
      "           0       0.55      0.71      0.62       102\n",
      "           1       0.78      0.64      0.70       164\n",
      "\n",
      "    accuracy                           0.67       266\n",
      "   macro avg       0.66      0.67      0.66       266\n",
      "weighted avg       0.69      0.67      0.67       266\n",
      "\n"
     ]
    }
   ],
   "source": [
    "print(classification_report(y_val, model_predictions(svc_grid, scaled_X_val)))"
   ]
  },
  {
   "cell_type": "code",
   "execution_count": 86,
   "id": "a6aa1591",
   "metadata": {},
   "outputs": [
    {
     "data": {
      "text/plain": [
       "<sklearn.metrics._plot.precision_recall_curve.PrecisionRecallDisplay at 0x7fa587ced9a0>"
      ]
     },
     "execution_count": 86,
     "metadata": {},
     "output_type": "execute_result"
    },
    {
     "data": {
      "image/png": "[encoded data removed]",
      "text/plain": [
       "<Figure size 432x288 with 1 Axes>"
      ]
     },
     "metadata": {
      "needs_background": "light"
     },
     "output_type": "display_data"
    }
   ],
   "source": [
    "plot_precision_recall_curve(svc_grid, scaled_X_val, y_val )"
   ]
  },
  {
   "cell_type": "code",
   "execution_count": 87,
   "id": "498bceb2",
   "metadata": {},
   "outputs": [
    {
     "data": {
      "text/plain": [
       "<sklearn.metrics._plot.roc_curve.RocCurveDisplay at 0x7fa5883690d0>"
      ]
     },
     "execution_count": 87,
     "metadata": {},
     "output_type": "execute_result"
    },
    {
     "data": {
      "image/png": "[encoded data removed]",
      "text/plain": [
       "<Figure size 432x288 with 1 Axes>"
      ]
     },
     "metadata": {
      "needs_background": "light"
     },
     "output_type": "display_data"
    }
   ],
   "source": [
    "plot_roc_curve(svc_grid,scaled_X_val,y_val)"
   ]
  },
  {
   "cell_type": "markdown",
   "id": "915a1e0c",
   "metadata": {},
   "source": [
    "# Model 7 - Random Forest"
   ]
  },
  {
   "cell_type": "code",
   "execution_count": 88,
   "id": "8059ea4a",
   "metadata": {},
   "outputs": [],
   "source": [
    "from sklearn.ensemble import RandomForestClassifier"
   ]
  },
  {
   "cell_type": "code",
   "execution_count": 89,
   "id": "9161f700",
   "metadata": {},
   "outputs": [],
   "source": [
    "rfc_model = RandomForestClassifier(n_estimators=10,\n",
    "                                  max_features='auto',)"
   ]
  },
  {
   "cell_type": "code",
   "execution_count": 90,
   "id": "dffb5777",
   "metadata": {},
   "outputs": [
    {
     "data": {
      "text/plain": [
       "RandomForestClassifier(n_estimators=10)"
      ]
     },
     "execution_count": 90,
     "metadata": {},
     "output_type": "execute_result"
    }
   ],
   "source": [
    "rfc_model.fit(X_train, y_train)"
   ]
  },
  {
   "cell_type": "code",
   "execution_count": 91,
   "id": "7d2c3f82",
   "metadata": {},
   "outputs": [],
   "source": [
    "rfc_preds = rfc_model.predict(X_val)"
   ]
  },
  {
   "cell_type": "code",
   "execution_count": 92,
   "id": "8590abfe",
   "metadata": {},
   "outputs": [
    {
     "name": "stdout",
     "output_type": "stream",
     "text": [
      "              precision    recall  f1-score   support\n",
      "\n",
      "           0       0.52      0.57      0.54       102\n",
      "           1       0.71      0.67      0.69       164\n",
      "\n",
      "    accuracy                           0.63       266\n",
      "   macro avg       0.62      0.62      0.62       266\n",
      "weighted avg       0.64      0.63      0.63       266\n",
      "\n"
     ]
    }
   ],
   "source": [
    "print(classification_report(y_val, rfc_preds))"
   ]
  },
  {
   "cell_type": "code",
   "execution_count": 93,
   "id": "7747156b",
   "metadata": {},
   "outputs": [
    {
     "data": {
      "text/plain": [
       "<sklearn.metrics._plot.confusion_matrix.ConfusionMatrixDisplay at 0x7fa5885bed30>"
      ]
     },
     "execution_count": 93,
     "metadata": {},
     "output_type": "execute_result"
    },
    {
     "data": {
      "image/png": "[encoded data removed]",
      "text/plain": [
       "<Figure size 432x288 with 2 Axes>"
      ]
     },
     "metadata": {
      "needs_background": "light"
     },
     "output_type": "display_data"
    }
   ],
   "source": [
    "plot_confusion_matrix(rfc_model, X_val, y_val, normalize='true')"
   ]
  },
  {
   "cell_type": "code",
   "execution_count": 94,
   "id": "3b0544eb",
   "metadata": {},
   "outputs": [
    {
     "data": {
      "text/plain": [
       "<sklearn.metrics._plot.precision_recall_curve.PrecisionRecallDisplay at 0x7fa58867e850>"
      ]
     },
     "execution_count": 94,
     "metadata": {},
     "output_type": "execute_result"
    },
    {
     "data": {
      "image/png": "[encoded data removed]",
      "text/plain": [
       "<Figure size 432x288 with 1 Axes>"
      ]
     },
     "metadata": {
      "needs_background": "light"
     },
     "output_type": "display_data"
    }
   ],
   "source": [
    "plot_precision_recall_curve(rfc_model, X_val, y_val )"
   ]
  },
  {
   "cell_type": "code",
   "execution_count": 95,
   "id": "20535468",
   "metadata": {},
   "outputs": [
    {
     "data": {
      "text/plain": [
       "<sklearn.metrics._plot.roc_curve.RocCurveDisplay at 0x7fa588678c40>"
      ]
     },
     "execution_count": 95,
     "metadata": {},
     "output_type": "execute_result"
    },
    {
     "data": {
      "image/png": "[encoded data removed]",
      "text/plain": [
       "<Figure size 432x288 with 1 Axes>"
      ]
     },
     "metadata": {
      "needs_background": "light"
     },
     "output_type": "display_data"
    }
   ],
   "source": [
    "plot_roc_curve(rfc_model,X_val,y_val)"
   ]
  },
  {
   "cell_type": "markdown",
   "id": "f10b2d9f",
   "metadata": {},
   "source": [
    "# Model 8 - XGBoost"
   ]
  },
  {
   "cell_type": "code",
   "execution_count": 96,
   "id": "00639ca9",
   "metadata": {},
   "outputs": [],
   "source": [
    "import xgboost as xgb"
   ]
  },
  {
   "cell_type": "code",
   "execution_count": null,
   "id": "3a4326ce",
   "metadata": {},
   "outputs": [],
   "source": []
  }
 ],
 "metadata": {
  "kernelspec": {
   "display_name": "Python 3",
   "language": "python",
   "name": "python3"
  },
  "language_info": {
   "codemirror_mode": {
    "name": "ipython",
    "version": 3
   },
   "file_extension": ".py",
   "mimetype": "text/x-python",
   "name": "python",
   "nbconvert_exporter": "python",
   "pygments_lexer": "ipython3",
   "version": "3.8.8"
  }
 },
 "nbformat": 4,
 "nbformat_minor": 5
}
